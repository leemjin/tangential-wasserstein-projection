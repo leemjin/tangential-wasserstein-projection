{
 "cells": [
  {
   "cell_type": "code",
   "execution_count": 1,
   "id": "06568c41",
   "metadata": {},
   "outputs": [],
   "source": [
    "import numpy as np\n",
    "import pandas as pd\n",
    "import matplotlib.pylab as plt\n",
    "import ot\n",
    "import cvxpy as cp\n",
    "\n",
    "# Supplementary Packages\n",
    "import scipy.stats as stats\n",
    "import seaborn as sns\n",
    "#import scipy.special as sps\n",
    "import time as t"
   ]
  },
  {
   "cell_type": "markdown",
   "id": "30b38653",
   "metadata": {},
   "source": [
    "## Functions"
   ]
  },
  {
   "cell_type": "code",
   "execution_count": 2,
   "id": "532c1063",
   "metadata": {},
   "outputs": [],
   "source": [
    "def baryc_proj(source, target, method):\n",
    "    \n",
    "    n1 = source.shape[0]\n",
    "    n2 = target.shape[0]   \n",
    "    p = source.shape[1]\n",
    "    a_ones, b_ones = np.ones((n1,)) / n1, np.ones((n2,)) / n2\n",
    "    \n",
    "    M = ot.dist(source, target)\n",
    "    M = M.astype('float64')\n",
    "    M /= M.max()\n",
    "    \n",
    "    if method == 'emd':\n",
    "        OTplan = ot.emd(a_ones, b_ones, M, numItermax = 1e7)\n",
    "        \n",
    "    elif method == 'entropic':\n",
    "        OTplan = ot.bregman.sinkhorn_stabilized(a_ones, b_ones, M, reg = 5*1e-3)\n",
    "    \n",
    "    # initialization\n",
    "    OTmap = np.empty((0, p))\n",
    "\n",
    "    for i in range(n1):\n",
    "        \n",
    "        # normalization\n",
    "        OTplan[i,:] = OTplan[i,:] / sum(OTplan[i,:])\n",
    "    \n",
    "        # conditional expectation\n",
    "        OTmap = np.vstack([OTmap, (target.T @ OTplan[i,:])])\n",
    "    \n",
    "    OTmap = np.array(OTmap)\n",
    "    \n",
    "    return(OTmap)"
   ]
  },
  {
   "cell_type": "code",
   "execution_count": 3,
   "id": "acacf3f6",
   "metadata": {},
   "outputs": [],
   "source": [
    "def DSCreplicationV2(target, controls, method = 'emd'):\n",
    "    \n",
    "    n = target.shape[0]\n",
    "    d = target.shape[1]\n",
    "    J = len(controls)\n",
    "    S = np.mean(target)*n*d*J #Stabilizer: to be used in optimization\n",
    "    \n",
    "    \n",
    "    # Barycentric Projection\n",
    "    G_list = []\n",
    "    proj_list = []\n",
    "    for i in range(len(controls)):\n",
    "        temp = baryc_proj(target, controls[i], method)\n",
    "        G_list.append(temp)\n",
    "        proj_list.append(temp - target)\n",
    "    \n",
    "    \n",
    "    # Obtain optimal weights\n",
    "    mylambda = cp.Variable(J)\n",
    "\n",
    "    objective = cp.Minimize(\n",
    "                    cp.sum(\n",
    "                    cp.sum(\n",
    "                    cp.sum([a*b for a,b in zip(mylambda, proj_list)])**2))/n\n",
    "                    )\n",
    "    \n",
    "    constraints = [mylambda >= 0, mylambda <= 1, cp.sum(mylambda) == 1]\n",
    "\n",
    "    prob = cp.Problem(objective, constraints)\n",
    "    prob.solve()\n",
    "    \n",
    "    weights = mylambda.value\n",
    "    replication = sum([a*b for a,b in zip(weights, G_list)])\n",
    "    \n",
    "    \n",
    "    return(weights, replication)"
   ]
  },
  {
   "cell_type": "markdown",
   "id": "df2ed796",
   "metadata": {},
   "source": [
    "## Medicare Data"
   ]
  },
  {
   "cell_type": "code",
   "execution_count": 4,
   "id": "2eedd72a",
   "metadata": {},
   "outputs": [],
   "source": [
    "def read_medicaid(file_name, columns, sample = True):\n",
    "    \n",
    "    df = pd.read_csv(file_name)[columns]\n",
    "    \n",
    "    if sample:\n",
    "        df = df.sample(1500, random_state = 31)\n",
    "    \n",
    "    return(np.array(df))"
   ]
  },
  {
   "cell_type": "code",
   "execution_count": 5,
   "id": "483622b7",
   "metadata": {},
   "outputs": [],
   "source": [
    "import os, glob\n",
    "medidata = []\n",
    "\n",
    "columns1 = ['HINSCAID','EMPSTAT','UHRSWORK','INCWAGE']\n",
    "for file in sorted(glob.glob(\"workingData/medicaid/*.csv\")):\n",
    "    medidata.append(read_medicaid(file, columns1))\n",
    "\n",
    "medidata.insert(0, medidata.pop(5)) # Move Montana to front of list\n",
    "medi_target = medidata[0]\n",
    "medi_controls = medidata[1:]\n",
    "\n",
    "\n",
    "#for counterfactual exercise\n",
    "mt_years = read_medicaid(\"workingData/medicaid/MT.csv\", ['YEAR'])"
   ]
  },
  {
   "cell_type": "markdown",
   "id": "62836076",
   "metadata": {},
   "source": [
    "### Test Run"
   ]
  },
  {
   "cell_type": "code",
   "execution_count": 6,
   "id": "20d84b91",
   "metadata": {
    "scrolled": true
   },
   "outputs": [],
   "source": [
    "weightsm, replicationm = DSCreplicationV2(medi_target, medi_controls)\n",
    "\n",
    "# round integer columns\n",
    "replicationm[:,0:2] = replicationm[:,0:2].round(decimals = 0).astype('int64')"
   ]
  },
  {
   "cell_type": "code",
   "execution_count": 7,
   "id": "26fa06ed",
   "metadata": {
    "scrolled": false
   },
   "outputs": [
    {
     "data": {
      "text/plain": [
       "array([[ 1.        ,  1.        ,  2.72129543,  8.20193435],\n",
       "       [ 1.        ,  1.        ,  4.98086314, 13.38312636],\n",
       "       [ 1.        ,  1.        ,  4.61313836, 11.5696838 ],\n",
       "       [ 1.        ,  1.        ,  3.60549785, 10.12021054],\n",
       "       [ 1.        ,  1.        ,  3.85439389, 10.87993221]])"
      ]
     },
     "execution_count": 7,
     "metadata": {},
     "output_type": "execute_result"
    }
   ],
   "source": [
    "medi_target[0:5,:]"
   ]
  },
  {
   "cell_type": "code",
   "execution_count": 8,
   "id": "49abfd9d",
   "metadata": {
    "scrolled": true
   },
   "outputs": [
    {
     "data": {
      "text/plain": [
       "array([[ 1.        ,  1.        ,  2.73017999,  8.30293574],\n",
       "       [ 1.        ,  1.        ,  4.72969576, 13.066235  ],\n",
       "       [ 1.        ,  1.        ,  4.60684693, 11.63850207],\n",
       "       [ 1.        ,  1.        ,  3.63609741, 10.21458135],\n",
       "       [ 1.        ,  1.        ,  3.93653063, 10.96411101]])"
      ]
     },
     "execution_count": 8,
     "metadata": {},
     "output_type": "execute_result"
    }
   ],
   "source": [
    "replicationm[0:5,:]"
   ]
  },
  {
   "cell_type": "code",
   "execution_count": 9,
   "id": "be4c55fa",
   "metadata": {
    "scrolled": true
   },
   "outputs": [
    {
     "data": {
      "text/plain": [
       "array([ 1.83539903e-01, -6.28353775e-21, -3.98446732e-20, -1.37940363e-20,\n",
       "        1.74426128e-01, -3.37975241e-20,  9.88190280e-03,  5.13105129e-01,\n",
       "       -3.67889695e-21,  7.92196942e-22,  1.19046937e-01, -2.01338829e-20])"
      ]
     },
     "execution_count": 9,
     "metadata": {},
     "output_type": "execute_result"
    }
   ],
   "source": [
    "weightsm"
   ]
  },
  {
   "cell_type": "markdown",
   "id": "3d832c20",
   "metadata": {},
   "source": [
    "## RESULTS"
   ]
  },
  {
   "cell_type": "markdown",
   "id": "44e3f366",
   "metadata": {},
   "source": [
    "### HINSCAID"
   ]
  },
  {
   "cell_type": "code",
   "execution_count": 10,
   "id": "28a3232c",
   "metadata": {},
   "outputs": [
    {
     "data": {
      "text/plain": [
       "16"
      ]
     },
     "execution_count": 10,
     "metadata": {},
     "output_type": "execute_result"
    }
   ],
   "source": [
    "1500 - sum(medi_target[:,0] == replicationm[:,0]) ## number of misses"
   ]
  },
  {
   "cell_type": "markdown",
   "id": "51a4efad",
   "metadata": {},
   "source": [
    "### EMPSTAT"
   ]
  },
  {
   "cell_type": "code",
   "execution_count": 11,
   "id": "ad180027",
   "metadata": {},
   "outputs": [
    {
     "data": {
      "text/plain": [
       "15"
      ]
     },
     "execution_count": 11,
     "metadata": {},
     "output_type": "execute_result"
    }
   ],
   "source": [
    "1500 - sum(medi_target[:,1] == replicationm[:,1]) ## number of misses"
   ]
  },
  {
   "cell_type": "markdown",
   "id": "bd761145",
   "metadata": {},
   "source": [
    "### UHRSWORK"
   ]
  },
  {
   "cell_type": "code",
   "execution_count": 12,
   "id": "3152017f",
   "metadata": {
    "scrolled": false
   },
   "outputs": [
    {
     "data": {
      "text/plain": [
       "(array([  5.,   4.,  14.,  70., 203., 338., 427., 321., 100.,  18.]),\n",
       " array([-1.07880966, -0.37203255,  0.33474455,  1.04152166,  1.74829877,\n",
       "         2.45507588,  3.16185299,  3.86863009,  4.5754072 ,  5.28218431,\n",
       "         5.98896142]),\n",
       " <BarContainer object of 10 artists>)"
      ]
     },
     "execution_count": 12,
     "metadata": {},
     "output_type": "execute_result"
    },
    {
     "data": {
      "image/png": "[encoded data removed]",
      "text/plain": [
       "<Figure size 432x288 with 1 Axes>"
      ]
     },
     "metadata": {
      "needs_background": "light"
     },
     "output_type": "display_data"
    }
   ],
   "source": [
    "plt.hist(medi_target[:,2])"
   ]
  },
  {
   "cell_type": "code",
   "execution_count": 13,
   "id": "3e7d8266",
   "metadata": {
    "scrolled": false
   },
   "outputs": [
    {
     "data": {
      "text/plain": [
       "(array([  5.,   8.,  22., 109., 238., 340., 384., 290.,  87.,  17.]),\n",
       " array([-0.36079492,  0.2618372 ,  0.88446932,  1.50710143,  2.12973355,\n",
       "         2.75236567,  3.37499779,  3.9976299 ,  4.62026202,  5.24289414,\n",
       "         5.86552625]),\n",
       " <BarContainer object of 10 artists>)"
      ]
     },
     "execution_count": 13,
     "metadata": {},
     "output_type": "execute_result"
    },
    {
     "data": {
      "image/png": "[encoded data removed]",
      "text/plain": [
       "<Figure size 432x288 with 1 Axes>"
      ]
     },
     "metadata": {
      "needs_background": "light"
     },
     "output_type": "display_data"
    }
   ],
   "source": [
    "plt.hist(replicationm[:,2])"
   ]
  },
  {
   "cell_type": "markdown",
   "id": "6bc9902b",
   "metadata": {},
   "source": [
    "### INCWAGE"
   ]
  },
  {
   "cell_type": "code",
   "execution_count": 14,
   "id": "5e5cca67",
   "metadata": {
    "scrolled": true
   },
   "outputs": [
    {
     "data": {
      "text/plain": [
       "(array([  3.,  10.,  16.,  46., 154., 372., 462., 332.,  88.,  17.]),\n",
       " array([ 3.73766962,  4.72704941,  5.7164292 ,  6.70580899,  7.69518878,\n",
       "         8.68456857,  9.67394836, 10.66332815, 11.65270794, 12.64208773,\n",
       "        13.63146752]),\n",
       " <BarContainer object of 10 artists>)"
      ]
     },
     "execution_count": 14,
     "metadata": {},
     "output_type": "execute_result"
    },
    {
     "data": {
      "image/png": "[encoded data removed]",
      "text/plain": [
       "<Figure size 432x288 with 1 Axes>"
      ]
     },
     "metadata": {
      "needs_background": "light"
     },
     "output_type": "display_data"
    }
   ],
   "source": [
    "plt.hist(medi_target[:,3])"
   ]
  },
  {
   "cell_type": "code",
   "execution_count": 15,
   "id": "edb27706",
   "metadata": {
    "scrolled": true
   },
   "outputs": [
    {
     "data": {
      "text/plain": [
       "(array([  2.,   1.,  11.,  36., 111., 341., 488., 378., 118.,  14.]),\n",
       " array([ 3.48625221,  4.50048859,  5.51472497,  6.52896135,  7.54319773,\n",
       "         8.55743411,  9.57167049, 10.58590687, 11.60014325, 12.61437963,\n",
       "        13.62861601]),\n",
       " <BarContainer object of 10 artists>)"
      ]
     },
     "execution_count": 15,
     "metadata": {},
     "output_type": "execute_result"
    },
    {
     "data": {
      "image/png": "[encoded data removed]",
      "text/plain": [
       "<Figure size 432x288 with 1 Axes>"
      ]
     },
     "metadata": {
      "needs_background": "light"
     },
     "output_type": "display_data"
    }
   ],
   "source": [
    "plt.hist(replicationm[:,3])"
   ]
  },
  {
   "cell_type": "markdown",
   "id": "68068fec",
   "metadata": {},
   "source": [
    "## Counterfactual Data"
   ]
  },
  {
   "cell_type": "code",
   "execution_count": 16,
   "id": "cf895ddb",
   "metadata": {},
   "outputs": [],
   "source": [
    "def read_medicaid2(file_name, columns, sample = True):\n",
    "    \n",
    "    df = pd.read_csv(file_name)[columns]\n",
    "    \n",
    "    if sample:\n",
    "        df = df.sample(7775, random_state = 31) #7775 is minimum data size\n",
    "    \n",
    "    return(np.array(df)) "
   ]
  },
  {
   "cell_type": "code",
   "execution_count": 17,
   "id": "557c9196",
   "metadata": {},
   "outputs": [],
   "source": [
    "postintv = []\n",
    "import glob\n",
    "\n",
    "# check path\n",
    "for file in sorted(glob.glob(\"workingData/medicaid/Counterfactual/*.csv\")):\n",
    "    postintv.append(read_medicaid2(file, columns1))\n",
    "\n",
    "postintv.insert(0, postintv.pop(5)) # Move Montana to front of list(why is mt 12?)\n",
    "post_target = postintv[0]\n",
    "post_controls = postintv[1:]\n",
    "\n",
    "mt_years = read_medicaid2(\"workingData/medicaid/Counterfactual/MT_post.csv\", ['YEAR'])"
   ]
  },
  {
   "cell_type": "code",
   "execution_count": 18,
   "id": "8554ea6f",
   "metadata": {},
   "outputs": [],
   "source": [
    "post_replication = sum([a*b for a,b in zip(weightsm, post_controls)])"
   ]
  },
  {
   "cell_type": "code",
   "execution_count": 48,
   "id": "55d041e7",
   "metadata": {},
   "outputs": [],
   "source": [
    "post_replication[:,0:2] = post_replication[:,0:2].round(decimals = 0).astype('int64')"
   ]
  },
  {
   "cell_type": "markdown",
   "id": "f7cc776f",
   "metadata": {},
   "source": [
    "### HINSCAID"
   ]
  },
  {
   "cell_type": "code",
   "execution_count": 49,
   "id": "a81e6621",
   "metadata": {},
   "outputs": [
    {
     "data": {
      "image/png": "[encoded data removed]",
      "text/plain": [
       "<Figure size 576x288 with 2 Axes>"
      ]
     },
     "metadata": {
      "needs_background": "light"
     },
     "output_type": "display_data"
    }
   ],
   "source": [
    "fig, axes = plt.subplots(1,2, figsize = (8,4), sharex = True, sharey = True)\n",
    "sns.histplot(post_replication[:,0], ax = axes[0], discrete = True, stat = 'density', color = 'royalblue')\n",
    "sns.histplot(post_target[:,0], ax = axes[1], discrete = True, stat = 'density', color = 'darkorange')\n",
    "\n",
    "plt.savefig('plots/hinscaid_sep.png')"
   ]
  },
  {
   "cell_type": "markdown",
   "id": "a54ac438",
   "metadata": {},
   "source": [
    "### EMPSTAT"
   ]
  },
  {
   "cell_type": "code",
   "execution_count": 50,
   "id": "80ef4a6e",
   "metadata": {},
   "outputs": [
    {
     "data": {
      "image/png": "[encoded data removed]",
      "text/plain": [
       "<Figure size 576x288 with 2 Axes>"
      ]
     },
     "metadata": {
      "needs_background": "light"
     },
     "output_type": "display_data"
    }
   ],
   "source": [
    "fig, axes = plt.subplots(1,2, figsize = (8,4), sharex = True, sharey = True)\n",
    "sns.histplot(post_replication[:,1], ax = axes[0], discrete = True, stat = 'density', color = 'royalblue')\n",
    "sns.histplot(post_target[:,1], ax = axes[1], discrete = True, stat = 'density', color = 'darkorange')\n",
    "\n",
    "plt.savefig('plots/empstat_sep.png')"
   ]
  },
  {
   "cell_type": "markdown",
   "id": "d38eb699",
   "metadata": {},
   "source": [
    "### UHRSWORK"
   ]
  },
  {
   "cell_type": "code",
   "execution_count": 51,
   "id": "92e10ecf",
   "metadata": {
    "scrolled": true
   },
   "outputs": [],
   "source": [
    "#plt.hist(post_replication[:,2])"
   ]
  },
  {
   "cell_type": "code",
   "execution_count": 52,
   "id": "d77824ee",
   "metadata": {
    "scrolled": false
   },
   "outputs": [],
   "source": [
    "#plt.hist(post_target[:,2])"
   ]
  },
  {
   "cell_type": "code",
   "execution_count": 53,
   "id": "8d7e316f",
   "metadata": {
    "scrolled": true
   },
   "outputs": [
    {
     "data": {
      "image/png": "[encoded data removed]",
      "text/plain": [
       "<Figure size 800x400 with 2 Axes>"
      ]
     },
     "metadata": {
      "needs_background": "light"
     },
     "output_type": "display_data"
    }
   ],
   "source": [
    "fig, axes = plt.subplots(figsize=(8,4), dpi=100)\n",
    "ax3 = axes.twinx()\n",
    "\n",
    "sns.histplot(post_replication[:,2], bins = 20, color = 'royalblue', ax = axes, alpha = 0.7, stat = 'density')\n",
    "sns.histplot(post_target[:,2], bins = 20, ax = axes, color = 'darkorange', alpha = 0.25, stat = 'density')\n",
    "\n",
    "sns.kdeplot(post_replication[:,2], cumulative = True, ax = ax3, color = 'mediumblue')\n",
    "sns.kdeplot(post_target[:,2], cumulative = True, color = 'orange')\n",
    "\n",
    "plt.savefig('plots/uhrswork_imposed.png')\n",
    "plt.show()\n"
   ]
  },
  {
   "cell_type": "code",
   "execution_count": 54,
   "id": "8ef15aa8",
   "metadata": {
    "scrolled": false
   },
   "outputs": [
    {
     "data": {
      "image/png": "[encoded data removed]",
      "text/plain": [
       "<Figure size 576x288 with 2 Axes>"
      ]
     },
     "metadata": {
      "needs_background": "light"
     },
     "output_type": "display_data"
    }
   ],
   "source": [
    "fig, axes = plt.subplots(1,2, figsize = (8,4), sharex = True, sharey = True)\n",
    "sns.histplot(post_replication[:,2], bins = 10, ax = axes[0], color = 'royalblue', stat = 'density')\n",
    "sns.kdeplot(post_replication[:,2], cumulative = True, ax = axes[0], color = 'mediumblue')\n",
    "\n",
    "sns.histplot(post_target[:,2], bins = 20, ax = axes[1], color = 'darkorange', stat = 'density')\n",
    "sns.kdeplot(post_target[:,2], cumulative = True, ax = axes[1], color = 'orange')\n",
    "\n",
    "plt.savefig('plots/uhrswork_sep.png')"
   ]
  },
  {
   "cell_type": "markdown",
   "id": "39f4850c",
   "metadata": {},
   "source": [
    "### INCWAGE"
   ]
  },
  {
   "cell_type": "code",
   "execution_count": 55,
   "id": "c6696518",
   "metadata": {
    "scrolled": true
   },
   "outputs": [],
   "source": [
    "#plt.hist(post_replication[:,3])"
   ]
  },
  {
   "cell_type": "code",
   "execution_count": 56,
   "id": "652c1eed",
   "metadata": {
    "scrolled": false
   },
   "outputs": [],
   "source": [
    "#plt.hist(post_target[:,3])"
   ]
  },
  {
   "cell_type": "code",
   "execution_count": 57,
   "id": "7918f087",
   "metadata": {
    "scrolled": true
   },
   "outputs": [
    {
     "data": {
      "image/png": "[encoded data removed]",
      "text/plain": [
       "<Figure size 800x400 with 2 Axes>"
      ]
     },
     "metadata": {
      "needs_background": "light"
     },
     "output_type": "display_data"
    }
   ],
   "source": [
    "fig, axes = plt.subplots(figsize=(8,4), dpi=100)\n",
    "ax3 = axes.twinx()\n",
    "\n",
    "sns.histplot(post_replication[:,3], bins = 20, color = 'royalblue', ax = axes, alpha = 0.7, stat = 'density')\n",
    "sns.histplot(post_target[:,3], bins = 20, ax = axes, color = 'darkorange', alpha = 0.25, stat = 'density')\n",
    "\n",
    "sns.kdeplot(post_replication[:,3], cumulative = True, ax = ax3, color = 'mediumblue')\n",
    "sns.kdeplot(post_target[:,3], cumulative = True, color = 'orange')\n",
    "\n",
    "plt.savefig('plots/incwage_imposed.png')\n",
    "plt.show()\n"
   ]
  },
  {
   "cell_type": "code",
   "execution_count": 58,
   "id": "b3364b74",
   "metadata": {
    "scrolled": true
   },
   "outputs": [
    {
     "data": {
      "image/png": "[encoded data removed]",
      "text/plain": [
       "<Figure size 576x288 with 2 Axes>"
      ]
     },
     "metadata": {
      "needs_background": "light"
     },
     "output_type": "display_data"
    }
   ],
   "source": [
    "fig, axes = plt.subplots(1,2, figsize = (8,4), sharex = True, sharey = True)\n",
    "sns.histplot(post_replication[:,3], bins = 10, ax = axes[0], color = 'royalblue', stat = 'density')\n",
    "sns.kdeplot(post_replication[:,3], cumulative = True, ax = axes[0], color = 'mediumblue')\n",
    "\n",
    "sns.histplot(post_target[:,3], bins = 20, ax = axes[1], color = 'darkorange', stat = 'density')\n",
    "sns.kdeplot(post_target[:,3], cumulative = True, ax = axes[1], color = 'orange')\n",
    "\n",
    "plt.savefig('plots/incwage_sep.png')"
   ]
  },
  {
   "cell_type": "code",
   "execution_count": 59,
   "id": "6b27b5fa",
   "metadata": {
    "scrolled": true
   },
   "outputs": [
    {
     "data": {
      "text/plain": [
       "<AxesSubplot:ylabel='Density'>"
      ]
     },
     "execution_count": 59,
     "metadata": {},
     "output_type": "execute_result"
    },
    {
     "data": {
      "image/png": "[encoded data removed]",
      "text/plain": [
       "<Figure size 720x360 with 3 Axes>"
      ]
     },
     "metadata": {
      "needs_background": "light"
     },
     "output_type": "display_data"
    }
   ],
   "source": [
    "## TEST\n",
    "\n",
    "fig2, axes2 = plt.subplots(1,3, figsize = (10,5))\n",
    "sns.histplot(post_replication[:,3], bins = 10, ax = axes2[0], color = 'royalblue')\n",
    "sns.kdeplot(post_replication[:,3], cumulative = True, ax = axes2[2], color = 'mediumblue')\n",
    "\n",
    "\n",
    "sns.histplot(post_target[:,3], bins = 10, ax = axes2[1], color = 'darkorange')\n",
    "sns.kdeplot(post_target[:,3], cumulative = True, ax = axes2[2], color = 'orange')"
   ]
  },
  {
   "cell_type": "markdown",
   "id": "cfdddbba",
   "metadata": {},
   "source": [
    "* high contrast color scheme"
   ]
  }
 ],
 "metadata": {
  "kernelspec": {
   "display_name": "Python 3 (ipykernel)",
   "language": "python",
   "name": "python3"
  },
  "language_info": {
   "codemirror_mode": {
    "name": "ipython",
    "version": 3
   },
   "file_extension": ".py",
   "mimetype": "text/x-python",
   "name": "python",
   "nbconvert_exporter": "python",
   "pygments_lexer": "ipython3",
   "version": "3.9.6"
  }
 },
 "nbformat": 4,
 "nbformat_minor": 5
}
