{
 "cells": [
  {
   "cell_type": "code",
   "execution_count": 1,
   "id": "06568c41",
   "metadata": {},
   "outputs": [],
   "source": [
    "import numpy as np\n",
    "import pandas as pd\n",
    "import matplotlib.pylab as plt\n",
    "import ot\n",
    "import cvxpy as cp\n",
    "\n",
    "# Supplementary Packages\n",
    "#import scipy.stats as stats\n",
    "#import seaborn as sns\n",
    "#import scipy.special as sps\n",
    "#import time as t"
   ]
  },
  {
   "cell_type": "markdown",
   "id": "30b38653",
   "metadata": {},
   "source": [
    "## Functions"
   ]
  },
  {
   "cell_type": "code",
   "execution_count": 22,
   "id": "532c1063",
   "metadata": {},
   "outputs": [],
   "source": [
    "def baryc_proj(source, target, method = 'emd'):\n",
    "    \n",
    "    n1 = source.shape[0]\n",
    "    n2 = target.shape[0]   \n",
    "    p = source.shape[1]\n",
    "    a_ones, b_ones = np.ones((n1,)) / n1, np.ones((n2,)) / n2\n",
    "    \n",
    "    M = ot.dist(source, target)\n",
    "    M = M.astype('float64')\n",
    "    M /= M.max()\n",
    "    \n",
    "    if method == 'emd':\n",
    "        OTplan = ot.emd(a_ones, b_ones, M)\n",
    "        \n",
    "    elif method == 'entropic':\n",
    "        OTplan = ot.bregman.sinkhorn(a_ones, b_ones, M, reg = 5*1e-3)\n",
    "\n",
    "    \n",
    "    # initialization\n",
    "    OTmap = np.empty((0, p))\n",
    "\n",
    "    for i in range(n1):\n",
    "        \n",
    "        # normalization\n",
    "        OTplan[i,:] = OTplan[i,:] / sum(OTplan[i,:])\n",
    "\n",
    "        # calculate conditional expectation for each sample in the source dist.\n",
    "        OTmap = np.vstack([OTmap, (target.T @ OTplan[i,:])])\n",
    "    \n",
    "    \n",
    "    OTmap = np.array(OTmap)\n",
    "    full_sum = sum(sum((OTmap - source)**2)) # for optimization in later steps\n",
    "    \n",
    "    \n",
    "    return(OTmap, full_sum)"
   ]
  },
  {
   "cell_type": "code",
   "execution_count": 23,
   "id": "acacf3f6",
   "metadata": {},
   "outputs": [],
   "source": [
    "def DSCreplication(target, controls, method = 'emd'):\n",
    "    \n",
    "    n = target.shape[0]\n",
    "    d = target.shape[1]\n",
    "    J = len(controls)\n",
    "    \n",
    "\n",
    "    # Barycentric Projection\n",
    "    distances = []\n",
    "    G_list = []\n",
    "    \n",
    "    for i in range(len(controls)):\n",
    "        distances.append(baryc_proj(target, controls[i], method)[1])\n",
    "        G_list.append(baryc_proj(target, controls[i], method)[0])\n",
    "    \n",
    "    distances = np.array(distances)\n",
    "    \n",
    "    \n",
    "    # Obtain Optimal Weights\n",
    "    mylambda = cp.Variable(J)\n",
    "\n",
    "    objective = cp.Minimize(distances@cp.square(mylambda) / n)\n",
    "    constraints = [mylambda >= 0, mylambda <= 1, cp.sum(mylambda) == 1]\n",
    "    prob = cp.Problem(objective, constraints)\n",
    "    prob.solve()\n",
    "    \n",
    "    \n",
    "    # Generate Replication\n",
    "    weights = mylambda.value\n",
    "    replication = weights[0]*G_list[0]\n",
    "    for j in range(J-1):\n",
    "        replication += weights[j+1]*G_list[j+1]\n",
    "    \n",
    "    \n",
    "    return(weights, replication)"
   ]
  }
 ],
 "metadata": {
  "kernelspec": {
   "display_name": "Python 3 (ipykernel)",
   "language": "python",
   "name": "python3"
  },
  "language_info": {
   "codemirror_mode": {
    "name": "ipython",
    "version": 3
   },
   "file_extension": ".py",
   "mimetype": "text/x-python",
   "name": "python",
   "nbconvert_exporter": "python",
   "pygments_lexer": "ipython3",
   "version": "3.9.6"
  }
 },
 "nbformat": 4,
 "nbformat_minor": 5
}
