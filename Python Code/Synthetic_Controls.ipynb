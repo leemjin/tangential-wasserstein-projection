{
 "cells": [
  {
   "cell_type": "code",
   "execution_count": 1,
   "id": "06568c41",
   "metadata": {},
   "outputs": [],
   "source": [
    "import numpy as np\n",
    "import pandas as pd\n",
    "import matplotlib.pylab as plt\n",
    "import ot\n",
    "import cvxpy as cp\n",
    "import seaborn as sns\n",
    "\n",
    "# Supplementary Packages\n",
    "#import scipy.stats as stats\n",
    "#import scipy.special as sps\n",
    "#import time as t"
   ]
  },
  {
   "cell_type": "markdown",
   "id": "12dfcbf1",
   "metadata": {},
   "source": [
    "# Guide\n",
    "1. Over all time period<br>\n",
    "* Use `twp4sc` to obtain pre-treatment period projection and post-treatment projection.\n",
    "* Use `permutest4sc` to obtain a table of pre-treatment period distances and post-treatment period distances\n",
    "* Use `permutest_by_timeperiod` to obtain table of distances over each time period\n",
    "2. Weights averaged over time period\n",
    "* Use `twp_by_timeperiod` to obtain projection and counterfactual distribution for each period\n",
    "* Use `permutest_by_timeperiod` with `functiontype = 'each'`(default) to obtain table of distances over each time period\n",
    "3. Weights over all time period but permutest by each time period\n",
    "* Use `twp_singleweights` to obtain projection and counterfactual distribution for each period\n",
    "* Use `permutest_by_timeperiod` with `functiontype = 'all'` to obtain table of distances over each time period\n",
    "4. Plotting for by-period permutation tests\n",
    "* Use `plot_byperiod_distances`"
   ]
  },
  {
   "cell_type": "markdown",
   "id": "30b38653",
   "metadata": {},
   "source": [
    "## Functions"
   ]
  },
  {
   "cell_type": "code",
   "execution_count": 2,
   "id": "532c1063",
   "metadata": {},
   "outputs": [],
   "source": [
    "def baryc_proj(source, target, method):\n",
    "    \n",
    "    n1 = source.shape[0]\n",
    "    n2 = target.shape[0]   \n",
    "    p = source.shape[1]\n",
    "    a_ones, b_ones = np.ones((n1,)) / n1, np.ones((n2,)) / n2\n",
    "    \n",
    "    M = ot.dist(source, target)\n",
    "    M = M.astype('float64')\n",
    "    M /= M.max()\n",
    "    \n",
    "    if method == 'emd':\n",
    "        OTplan = ot.emd(a_ones, b_ones, M, numItermax = 1e7)\n",
    "        \n",
    "    elif method == 'entropic':\n",
    "        OTplan = ot.bregman.sinkhorn_stabilized(a_ones, b_ones, M, reg = 5*1e-3)\n",
    "    \n",
    "    # initialization\n",
    "    OTmap = np.empty((0, p))\n",
    "\n",
    "    for i in range(n1):\n",
    "        \n",
    "        # normalization\n",
    "        OTplan[i,:] = OTplan[i,:] / sum(OTplan[i,:])\n",
    "    \n",
    "        # conditional expectation\n",
    "        OTmap = np.vstack([OTmap, (target.T @ OTplan[i,:])])\n",
    "    \n",
    "    OTmap = np.array(OTmap).astype('float32')\n",
    "    \n",
    "    return(OTmap)"
   ]
  },
  {
   "cell_type": "code",
   "execution_count": 3,
   "id": "5b12e466",
   "metadata": {},
   "outputs": [],
   "source": [
    "def DSCreplication(target, controls, method = 'emd', projtype = 'wass'):\n",
    "    \n",
    "    n = target.shape[0]\n",
    "    d = target.shape[1]\n",
    "    J = len(controls)\n",
    "    S = np.mean(target)*n*d*J\n",
    "    \n",
    "    \n",
    "    # Barycentric Projection\n",
    "    G_list = []\n",
    "    proj_list = []\n",
    "    for i in range(len(controls)):\n",
    "        temp = baryc_proj(target, controls[i], method)\n",
    "        G_list.append(temp)\n",
    "        proj_list.append(temp - target)\n",
    "    \n",
    "    \n",
    "    # Obtain optimal weights\n",
    "    mylambda = cp.Variable(J)\n",
    "\n",
    "    objective = cp.Minimize(\n",
    "                    cp.sum_squares(\n",
    "                    cp.sum([a*b for a,b in zip(mylambda, proj_list)], axis = 0))/S\n",
    "                    )\n",
    "    constraints = [mylambda >= 0, mylambda <= 1, cp.sum(mylambda) == 1]\n",
    "\n",
    "    prob = cp.Problem(objective, constraints)\n",
    "    prob.solve()\n",
    "    \n",
    "    \n",
    "    weights = mylambda.value\n",
    "    testproj = sum([a*b for a,b in zip(weights, G_list)])\n",
    "    measureweights = [ot.unif(n)]*J #all barycprojs have same dimension\n",
    "    \n",
    "    if projtype == 'eucl':\n",
    "        projection = testproj\n",
    "    elif projtype == 'wass':\n",
    "        projection = ot.lp.free_support_barycenter(G_list, measureweights, X_init = testproj, weights = weights)\n",
    "\n",
    "    \n",
    "    return(weights, projection)"
   ]
  },
  {
   "cell_type": "code",
   "execution_count": 4,
   "id": "10cd43b9",
   "metadata": {},
   "outputs": [],
   "source": [
    "# read data\n",
    "# input: Target, pre_controls, post_controls, sample size, option to output weights\n",
    "# output: projection pre-intervention, conterfactual distribution, optionally weights\n",
    "\n",
    "def twp4sc(target, pre_controls, post_controls, samplesize = 'full', weight_out = False):\n",
    "    \n",
    "    if samplesize != 'full':\n",
    "        \n",
    "        # sample target\n",
    "        target = np.array(\n",
    "                    pd.DataFrame(target).sample(samplesize, random_state = 31))\n",
    "        \n",
    "        # sample controls\n",
    "        for i in range(len(pre_controls)):\n",
    "            pre_controls[i] = np.array(\n",
    "                                pd.DataFrame(\n",
    "                                    pre_controls[i]).sample(samplesize, random_state = 31))\n",
    "            \n",
    "        for j in range(len(post_controls)):\n",
    "            post_controls[j] = np.array(\n",
    "                                pd.DataFrame(\n",
    "                                    post_controls[j]).sample(samplesize, random_state = 31))\n",
    "        \n",
    "    # TWP\n",
    "    lambdas, projection = DSCreplication(target, pre_controls)\n",
    "        \n",
    "    # counterfactual distribution\n",
    "    n = post_controls[0].shape[0]\n",
    "    d = post_controls[0].shape[1]\n",
    "    J = len(post_controls)\n",
    "    \n",
    "    measureweights = [ot.unif(n)]*J # check if post controls can have different length\n",
    "    x_init = np.random.normal(0., 1., (n, d))\n",
    "        \n",
    "    cntfctl = ot.lp.free_support_barycenter(post_controls, measureweights, X_init = x_init, weights = lambdas)\n",
    "        \n",
    "    if weight_out:\n",
    "        return(lambdas, projection, cntfctl)\n",
    "    else:\n",
    "        return(projection, cntfctl)"
   ]
  },
  {
   "cell_type": "code",
   "execution_count": 5,
   "id": "d5c62ccf",
   "metadata": {},
   "outputs": [],
   "source": [
    "# input: list of target and controls pre and post intervention\n",
    "# output: lists of distances between actual and replication\n",
    "\n",
    "def permutest4sc(PRE, POST, samplesize = 'full'):\n",
    "    \n",
    "    pre_dists = []\n",
    "    post_dists = []\n",
    "\n",
    "    for i in range(len(PRE)):\n",
    "\n",
    "        pre_projection, post_projection = twp4sc(PRE[i], PRE[:i]+PRE[i+1:], POST[:i]+POST[i+1:], samplesize)\n",
    "\n",
    "        n1 = pre_projection.shape[0]\n",
    "        n2 = post_projection.shape[0]\n",
    "        \n",
    "        # distance to pre\n",
    "        if samplesize != 'full':\n",
    "                current_pre = np.array(\n",
    "                                pd.DataFrame(\n",
    "                                    PRE[i]).sample(samplesize, random_state = 31))\n",
    "        else: current_pre = PRE[i]\n",
    "                \n",
    "        M1 = ot.dist(pre_projection, current_pre)\n",
    "        a_ones, b_ones = np.ones((n1,)) / n1, np.ones((n1,)) / n1\n",
    "        dist2pre = ot.emd2(a_ones, b_ones, M1)\n",
    "        pre_dists.append(dist2pre)\n",
    "\n",
    "        \n",
    "        # distance to post\n",
    "        if samplesize != 'full':\n",
    "                current_post = np.array(\n",
    "                                pd.DataFrame(\n",
    "                                    POST[i]).sample(samplesize, random_state = 31))\n",
    "        else: current_post = POST[i]\n",
    "            \n",
    "        M2 = ot.dist(post_projection, current_post)\n",
    "        a_ones, b_ones = np.ones((n2,)) / n2, np.ones((n2,)) / n2\n",
    "        dist2post = ot.emd2(a_ones, b_ones, M2)\n",
    "        post_dists.append(dist2post)\n",
    "                \n",
    "            \n",
    "    return(pre_dists, post_dists)"
   ]
  },
  {
   "cell_type": "markdown",
   "id": "bd09bbe3",
   "metadata": {},
   "source": [
    "#### Time Period option"
   ]
  },
  {
   "cell_type": "code",
   "execution_count": 6,
   "id": "8b207dc0",
   "metadata": {},
   "outputs": [],
   "source": [
    "# input: list of target(np.arrays), list of list of controls(arrays), pre and post - each element is one time period\n",
    "\n",
    "def twp_by_timeperiod(targets, pre_controls, post_controls, weighting = 'uniform', samplesize = 100):\n",
    "    \n",
    "    # restructure controls\n",
    "    pre_set = []\n",
    "    for j in range(len(pre_controls[0])):\n",
    "        tmp = [pre_controls[i][j] for i in range(len(pre_controls))]\n",
    "        pre_set.append(tmp)\n",
    "        \n",
    "    post_set = []\n",
    "    for j in range(len(post_controls[0])):\n",
    "        tmp = [post_controls[i][j] for i in range(len(post_controls))]\n",
    "        post_set.append(tmp)\n",
    "        \n",
    "        \n",
    "    # i is time period\n",
    "    lambdas = []\n",
    "    projections = []\n",
    "    for i in range(len(targets)):\n",
    "        \n",
    "        if samplesize != 'full':\n",
    "        \n",
    "        # sample target\n",
    "            target = np.array(\n",
    "                        pd.DataFrame(targets[i]).sample(samplesize, random_state = 31))\n",
    "        \n",
    "        # sample controls\n",
    "            controls = []\n",
    "            for j in range(len(pre_set[i])):\n",
    "                controls.append(np.array(\n",
    "                                        pd.DataFrame(\n",
    "                                            pre_set[i][j]).sample(samplesize, random_state = 31)))\n",
    "        else:\n",
    "            target = targets[i]\n",
    "            controls = controls_temp[i]\n",
    "        \n",
    "        lam, projection = DSCreplication(target, controls)\n",
    "        lambdas.append(lam)\n",
    "        projections.append(projection)\n",
    "        # projections are still from yearly weights -- make function that manually takes in custom weights\n",
    "    \n",
    "    lambdas = np.array(lambdas)\n",
    "    \n",
    "    if weighting == 'uniform':\n",
    "        opt_lambdas = np.mean(lambdas, axis = 0)\n",
    "    else:\n",
    "        opt_lambdas = [a*b for a,b in zip(weighting, lambdas)]\n",
    "\n",
    "    \n",
    "    \n",
    "    #Post\n",
    "    cntfctl = []\n",
    "    for i in range(len(post_set)):\n",
    "        \n",
    "        if samplesize != 'full':\n",
    "        \n",
    "            # sample controls\n",
    "            sampled_controls = []\n",
    "            for j in range(len(post_set[i])):\n",
    "                sampled_controls.append(np.array(\n",
    "                                        pd.DataFrame(\n",
    "                                            post_set[i][j]).sample(samplesize, random_state = 31)))\n",
    "                \n",
    "        else: sampled_controls = post_set\n",
    "        \n",
    "        n = sampled_controls[0].shape[0]\n",
    "        d = sampled_controls[0].shape[1]\n",
    "        J = len(sampled_controls)\n",
    "\n",
    "        measureweights = [ot.unif(n)]*J # check if post controls can have different length\n",
    "        x_init = np.random.normal(0., 1., (n, d))\n",
    "    \n",
    "        cntfctl.append(\n",
    "                ot.lp.free_support_barycenter(sampled_controls, measureweights, \n",
    "                                                  X_init = x_init, weights = opt_lambdas))\n",
    "    \n",
    "    return(opt_lambdas, projections, cntfctl)"
   ]
  },
  {
   "cell_type": "code",
   "execution_count": 7,
   "id": "c79b2b60",
   "metadata": {},
   "outputs": [],
   "source": [
    "def permutest_by_timeperiod(PRE, POST, functiontype = 'each', weighting = 'uniform', samplesize = 100):\n",
    "    \n",
    "    \n",
    "    PRE_D = []\n",
    "    POST_D = []\n",
    "    for j in range(len(PRE)): # j is index for each distribution\n",
    "        \n",
    "        if functiontype == 'each' :\n",
    "            weights, pre_p, post_p = twp_by_timeperiod(PRE[j], \n",
    "                                                        PRE[:j]+PRE[j+1:], \n",
    "                                                        POST[:j]+POST[j+1:], \n",
    "                                                        weighting = weighting,\n",
    "                                                        samplesize = samplesize)\n",
    "\n",
    "        elif functiontype == 'all':\n",
    "            weights, pre_p, post_p = twp_singleweights(PRE[j], \n",
    "                                                        PRE[:j]+PRE[j+1:], \n",
    "                                                        POST[:j]+POST[j+1:], samplesize = samplesize)\n",
    "        else:\n",
    "            raise Warning('Unrecognized function type')\n",
    "            \n",
    "            \n",
    "        # distance to pre\n",
    "        pre_dists = []\n",
    "\n",
    "        for k in range(len(PRE[j])): # k is year\n",
    "            \n",
    "            current_pre = np.array(\n",
    "                            pd.DataFrame(PRE[j][k]).sample(samplesize, random_state = 31))\n",
    "            n = current_pre.shape[0]\n",
    "            M = ot.dist(pre_p[k], current_pre)\n",
    "            a_ones, b_ones = np.ones((n,)) / n, np.ones((n,)) / n\n",
    "            dist2pre = ot.emd2(a_ones, b_ones, M)\n",
    "            pre_dists.append(dist2pre)\n",
    "        \n",
    "        \n",
    "        # distance to post\n",
    "        post_dists = []\n",
    "\n",
    "        for l in range(len(POST[j])): # k is year\n",
    "            \n",
    "            current_post = np.array(\n",
    "                            pd.DataFrame(POST[j][l]).sample(samplesize, random_state = 31))\n",
    "            n = current_post.shape[0]\n",
    "            M = ot.dist(post_p[l], current_post)\n",
    "            a_ones, b_ones = np.ones((n,)) / n, np.ones((n,)) / n\n",
    "            dist2post = ot.emd2(a_ones, b_ones, M)\n",
    "            post_dists.append(dist2post)\n",
    "        \n",
    "        PRE_D.append(pre_dists)\n",
    "        POST_D.append(post_dists)\n",
    "            \n",
    "    return(PRE_D, POST_D)"
   ]
  },
  {
   "cell_type": "code",
   "execution_count": 8,
   "id": "58e71337",
   "metadata": {},
   "outputs": [],
   "source": [
    "# plotting function\n",
    "# inputs: 2 outputs of the permutation_by_timeperiod function and vector of time periods\n",
    "# output: plots\n",
    "\n",
    "def plot_byperiod_distances(pre_d, post_d, timeperiods):\n",
    "    \n",
    "    byperiod = pd.concat([pd.DataFrame(pre_d), pd.DataFrame(post_d)], axis = 1)\n",
    "    byperiod.columns = timeperiods\n",
    "    \n",
    "    for i in range(len(pre_d) - 1):\n",
    "        plt.plot(byperiod.iloc[i,:], 'bo-')\n",
    "        \n",
    "    #actual target    \n",
    "    plt.plot(byperiod.iloc[len(pre_d) - 1], 'o-', color = 'orange')"
   ]
  },
  {
   "cell_type": "markdown",
   "id": "4c081b65",
   "metadata": {},
   "source": [
    "### allperiod weights"
   ]
  },
  {
   "cell_type": "code",
   "execution_count": 9,
   "id": "f6b8d204",
   "metadata": {},
   "outputs": [],
   "source": [
    "# input: list of target(np.arrays), list of list of controls(arrays), pre and post - each element is one time period\n",
    "# during the first step, we merge all periods into one dataset and sample, and then calculate optimal weights\n",
    "\n",
    "def twp_singleweights(targets, pre_controls, post_controls, samplesize = 100):\n",
    "    \n",
    "    allperiodtarget = np.concatenate(targets)\n",
    "    target = np.array(\n",
    "                    pd.DataFrame(allperiodtarget).sample(samplesize, random_state = 31))\n",
    "    \n",
    "    controls = []\n",
    "    for k in range(len(pre_controls)):\n",
    "        allperiodcontrol = np.concatenate(pre_controls[k])\n",
    "        controls.append(np.array(\n",
    "                            pd.DataFrame(allperiodcontrol).sample(samplesize, random_state = 31)))\n",
    "     \n",
    "    # get weights\n",
    "    opt_lambdas, _ = DSCreplication(target, controls)\n",
    "    \n",
    "    \n",
    "    # restructure controls\n",
    "    pre_set = []\n",
    "    for j in range(len(pre_controls[0])):\n",
    "        tmp = [pre_controls[i][j] for i in range(len(pre_controls))]\n",
    "        pre_set.append(tmp) \n",
    "        \n",
    "    post_set = []\n",
    "    for j in range(len(post_controls[0])):\n",
    "        tmp = [post_controls[i][j] for i in range(len(post_controls))]\n",
    "        post_set.append(tmp)\n",
    "        \n",
    "        \n",
    "    # i is time period\n",
    "    projections = []\n",
    "    for i in range(len(pre_set)):\n",
    "        \n",
    "        if samplesize != 'full':\n",
    "        \n",
    "            # sample controls\n",
    "            sampled_controls = []\n",
    "            for j in range(len(pre_set[i])):\n",
    "                sampled_controls.append(np.array(\n",
    "                                        pd.DataFrame(\n",
    "                                            pre_set[i][j]).sample(samplesize, random_state = 31)))\n",
    "                \n",
    "        else: sampled_controls = pre_set\n",
    "        \n",
    "        n = sampled_controls[0].shape[0]\n",
    "        d = sampled_controls[0].shape[1]\n",
    "        J = len(sampled_controls)\n",
    "\n",
    "        measureweights = [ot.unif(n)]*J # check if post controls can have different length\n",
    "        x_init = np.random.normal(0., 1., (n, d))\n",
    "    \n",
    "        projections.append(\n",
    "                ot.lp.free_support_barycenter(sampled_controls, measureweights, \n",
    "                                                  X_init = x_init, weights = opt_lambdas))\n",
    "        \n",
    "    \n",
    "    #Post\n",
    "    cntfctl = []\n",
    "    for i in range(len(post_set)):\n",
    "        \n",
    "        if samplesize != 'full':\n",
    "        \n",
    "            # sample controls\n",
    "            sampled_controls = []\n",
    "            for j in range(len(post_set[i])):\n",
    "                sampled_controls.append(np.array(\n",
    "                                        pd.DataFrame(\n",
    "                                            post_set[i][j]).sample(samplesize, random_state = 31)))\n",
    "                \n",
    "        else: sampled_controls = post_set\n",
    "        \n",
    "        n = sampled_controls[0].shape[0]\n",
    "        d = sampled_controls[0].shape[1]\n",
    "        J = len(sampled_controls)\n",
    "\n",
    "        measureweights = [ot.unif(n)]*J # check if post controls can have different length\n",
    "        x_init = np.random.normal(0., 1., (n, d))\n",
    "    \n",
    "        cntfctl.append(\n",
    "                ot.lp.free_support_barycenter(sampled_controls, measureweights, \n",
    "                                                  X_init = x_init, weights = opt_lambdas))\n",
    "    \n",
    "    return(opt_lambdas, projections, cntfctl)"
   ]
  },
  {
   "cell_type": "markdown",
   "id": "d58fdd2f",
   "metadata": {},
   "source": [
    "## Test Data"
   ]
  },
  {
   "cell_type": "code",
   "execution_count": 10,
   "id": "2eedd72a",
   "metadata": {},
   "outputs": [],
   "source": [
    "def read_medicaid(file_name, columns, samplesize = 'full'):\n",
    "    \n",
    "    df = pd.read_csv(file_name)[columns]\n",
    "    \n",
    "    if samplesize != 'full':\n",
    "        df = df.sample(samplesize, random_state = 31)\n",
    "    \n",
    "    return(np.array(df))"
   ]
  },
  {
   "cell_type": "code",
   "execution_count": 11,
   "id": "e855ea99",
   "metadata": {},
   "outputs": [],
   "source": [
    "columns1 = ['HINSCAID','EMPSTAT','UHRSWORK','INCWAGE']\n",
    "\n",
    "#pre\n",
    "testtarget = read_medicaid('workingData/medicaid/MT.csv', columns1)\n",
    "\n",
    "testcontrol1 = read_medicaid('workingData/medicaid/AL.csv', columns1)\n",
    "testcontrol2 = read_medicaid('workingData/medicaid/FL.csv', columns1)\n",
    "testcontrol3 = read_medicaid('workingData/medicaid/GA.csv', columns1)\n",
    "testcontrols = [testcontrol1, testcontrol2, testcontrol3]\n",
    "\n",
    "#post\n",
    "posttarget = read_medicaid('workingData/medicaid/Counterfactual/MT_post.csv', columns1)\n",
    "\n",
    "testpost1 = read_medicaid('workingData/medicaid/Counterfactual/AL_post.csv', columns1)\n",
    "testpost2 = read_medicaid('workingData/medicaid/Counterfactual/FL_post.csv', columns1)\n",
    "testpost3 = read_medicaid('workingData/medicaid/Counterfactual/GA_post.csv', columns1)\n",
    "testpost = [testpost1, testpost2, testpost3]\n"
   ]
  },
  {
   "cell_type": "code",
   "execution_count": 12,
   "id": "03edfe01",
   "metadata": {
    "scrolled": false
   },
   "outputs": [
    {
     "name": "stdout",
     "output_type": "stream",
     "text": [
      "[[ 1.          1.          3.07371714  8.02004536]\n",
      " [ 1.          1.          4.5784871  12.39123194]\n",
      " [ 1.          1.          3.95016683 11.66769274]\n",
      " [ 1.          1.          3.72924324 10.20876597]\n",
      " [ 1.          1.          3.96144264 10.76469223]]\n"
     ]
    }
   ],
   "source": [
    "w, a, b = twp4sc(testtarget, testcontrols, testpost, samplesize = 100, weight_out = True)\n",
    "a[:,0:2] = a[:,0:2].round(decimals = 0).astype('int32')\n",
    "print(a[0:5,])"
   ]
  },
  {
   "cell_type": "code",
   "execution_count": 13,
   "id": "62861fae",
   "metadata": {
    "scrolled": true
   },
   "outputs": [
    {
     "name": "stdout",
     "output_type": "stream",
     "text": [
      "[[ 1.          1.          4.60225682 12.89783065]\n",
      " [ 1.          1.          4.8152887  11.1268552 ]\n",
      " [ 1.          1.          1.83738505  9.60803419]\n",
      " [ 1.          1.          3.0220022   9.5623157 ]\n",
      " [ 2.          1.          4.40207383 10.56737765]]\n"
     ]
    }
   ],
   "source": [
    "b[:,0:2] = b[:,0:2].round(decimals = 0).astype('int32')\n",
    "print(b[0:5,])"
   ]
  },
  {
   "cell_type": "markdown",
   "id": "b75464cb",
   "metadata": {},
   "source": [
    "# Permutation Test"
   ]
  },
  {
   "cell_type": "code",
   "execution_count": 14,
   "id": "2dd72cc6",
   "metadata": {},
   "outputs": [],
   "source": [
    "# make list of target+controls\n",
    "pre = testcontrols\n",
    "pre.append(testtarget)\n",
    "post = testpost\n",
    "post.append(posttarget)\n",
    "\n",
    "c,d = permutest4sc(pre, post, 100)"
   ]
  },
  {
   "cell_type": "code",
   "execution_count": 15,
   "id": "d6209ec3",
   "metadata": {
    "scrolled": true
   },
   "outputs": [
    {
     "name": "stdout",
     "output_type": "stream",
     "text": [
      "        pre      post\n",
      "0  0.306481  0.332038\n",
      "1  0.224178  0.322763\n",
      "2  0.198738  0.220604\n",
      "3  0.516337  0.291913\n"
     ]
    }
   ],
   "source": [
    "# last row is the distances for our true target distribution\n",
    "\n",
    "res = pd.concat((pd.DataFrame(c), pd.DataFrame(d)),axis =1)\n",
    "res.columns = ['pre', 'post']\n",
    "print(res)"
   ]
  },
  {
   "cell_type": "markdown",
   "id": "9209f2d6",
   "metadata": {},
   "source": [
    "* output is by time-period"
   ]
  },
  {
   "cell_type": "markdown",
   "id": "6ce2293e",
   "metadata": {},
   "source": [
    "# TIME PERIOD"
   ]
  },
  {
   "cell_type": "code",
   "execution_count": 16,
   "id": "0a2986d6",
   "metadata": {},
   "outputs": [],
   "source": [
    "def timeperiod_split(data, start, length):\n",
    "    \n",
    "    df = pd.DataFrame(data)\n",
    "    df.columns = columns2\n",
    "    output = []\n",
    "    for i in range(length):\n",
    "        temp = df[df['YEAR'] == start + i].drop(columns = ['YEAR'])\n",
    "        output.append(np.array(temp))\n",
    "    \n",
    "    return(output)   "
   ]
  },
  {
   "cell_type": "code",
   "execution_count": 17,
   "id": "d8714439",
   "metadata": {},
   "outputs": [],
   "source": [
    "columns2 = ['YEAR','HINSCAID','EMPSTAT','UHRSWORK','INCWAGE']\n",
    "\n",
    "#pre\n",
    "testtarget2 = read_medicaid('workingData/medicaid/MT.csv', columns2)\n",
    "\n",
    "testcontrol1 = read_medicaid('workingData/medicaid/AL.csv', columns2)\n",
    "testcontrol2 = read_medicaid('workingData/medicaid/FL.csv', columns2)\n",
    "testcontrol3 = read_medicaid('workingData/medicaid/GA.csv', columns2)\n",
    "\n",
    "targetTP = timeperiod_split(testtarget2, 2010, 7)\n",
    "controlTP1 = timeperiod_split(testcontrol1, 2010, 7)\n",
    "controlTP2 = timeperiod_split(testcontrol2, 2010, 7)\n",
    "controlTP3 = timeperiod_split(testcontrol3, 2010, 7)\n",
    "\n",
    "pre_controls = [controlTP1, controlTP2, controlTP3]\n",
    "PREtp = [controlTP1, controlTP2, controlTP3, targetTP] #for permutest\n",
    "\n",
    "    \n",
    "#post\n",
    "posttarget2 = read_medicaid('workingData/medicaid/Counterfactual/MT_post.csv', columns2)\n",
    "\n",
    "testpost1 = read_medicaid('workingData/medicaid/Counterfactual/AL_post.csv', columns2)\n",
    "testpost2 = read_medicaid('workingData/medicaid/Counterfactual/FL_post.csv', columns2)\n",
    "testpost3 = read_medicaid('workingData/medicaid/Counterfactual/GA_post.csv', columns2)\n",
    "\n",
    "post_targetTP = timeperiod_split(posttarget2, 2017, 4)\n",
    "post_controlTP1 = timeperiod_split(testpost1, 2017, 4)\n",
    "post_controlTP2 = timeperiod_split(testpost2, 2017, 4)\n",
    "post_controlTP3 = timeperiod_split(testpost3, 2017, 4)\n",
    "\n",
    "post_controls = [post_controlTP1, post_controlTP2, post_controlTP3]\n",
    "POSTtp = [post_controlTP1, post_controlTP2, post_controlTP3, post_targetTP] #for permutest"
   ]
  },
  {
   "cell_type": "code",
   "execution_count": 18,
   "id": "9d5fb7bc",
   "metadata": {},
   "outputs": [],
   "source": [
    "w, p, c = twp_by_timeperiod(targetTP, pre_controls, post_controls, samplesize = 100)"
   ]
  },
  {
   "cell_type": "code",
   "execution_count": 19,
   "id": "ad7c6bca",
   "metadata": {
    "scrolled": true
   },
   "outputs": [
    {
     "name": "stdout",
     "output_type": "stream",
     "text": [
      "[0.40290848 0.16890648 0.42818504]\n",
      "[[ 1.          1.          4.5822545  11.708668  ]\n",
      " [ 1.          1.          1.53043306  8.65272299]\n",
      " [ 1.          1.          3.33194724 10.0317215 ]\n",
      " [ 1.          1.          3.83855426  9.66845871]\n",
      " [ 1.          1.          3.77864971 10.98461092]]\n",
      "[[ 1.          1.          3.92001689 11.03522492]\n",
      " [ 1.          1.          3.80790129 10.81254615]\n",
      " [ 1.          1.          4.67998919 11.81212128]\n",
      " [ 1.          1.          2.9738554   9.34392782]\n",
      " [ 1.          1.          4.01782177 12.21157246]]\n"
     ]
    }
   ],
   "source": [
    "# we omit the rounding step for now\n",
    "\n",
    "print(w)\n",
    "print(p[0][0:5,])\n",
    "print(c[0][0:5,])"
   ]
  },
  {
   "cell_type": "code",
   "execution_count": 20,
   "id": "aa5eeb87",
   "metadata": {},
   "outputs": [],
   "source": [
    "pred,postd = permutest_by_timeperiod(PREtp, POSTtp, functiontype = 'each', samplesize = 100)"
   ]
  },
  {
   "cell_type": "code",
   "execution_count": 21,
   "id": "8e6e6559",
   "metadata": {
    "scrolled": true
   },
   "outputs": [
    {
     "data": {
      "image/png": "[encoded data removed]",
      "text/plain": [
       "<Figure size 432x288 with 1 Axes>"
      ]
     },
     "metadata": {
      "needs_background": "light"
     },
     "output_type": "display_data"
    }
   ],
   "source": [
    "years = [2010,2011,2012,2013,2014,2015,2016,2017,2018,2019,2020]\n",
    "plot_byperiod_distances(pred, postd, years)"
   ]
  },
  {
   "cell_type": "markdown",
   "id": "9dceef62",
   "metadata": {},
   "source": [
    "## Weights over all periods, permutest over each period"
   ]
  },
  {
   "cell_type": "code",
   "execution_count": 22,
   "id": "ff244b0d",
   "metadata": {},
   "outputs": [],
   "source": [
    "w2, p2, c2 = twp_singleweights(targetTP, pre_controls, post_controls, samplesize = 100)"
   ]
  },
  {
   "cell_type": "code",
   "execution_count": 23,
   "id": "3adc8839",
   "metadata": {
    "scrolled": false
   },
   "outputs": [
    {
     "name": "stdout",
     "output_type": "stream",
     "text": [
      "[0.79314211 0.02720102 0.17965688]\n",
      "[[ 1.          1.          5.19577094 12.03188139]\n",
      " [ 1.          1.          3.80037164 10.54346757]\n",
      " [ 1.          1.          3.43869477  9.31563351]\n",
      " [ 1.          1.          3.77054771  8.64799095]\n",
      " [ 1.          1.          3.4497411  10.08952997]]\n",
      "[[ 1.          1.          1.9969495   8.53445427]\n",
      " [ 1.97279898  1.          1.94839164  8.63718023]\n",
      " [ 1.          1.          2.94012506 10.26948118]\n",
      " [ 1.          1.          3.83450796 10.94552597]\n",
      " [ 1.          1.          4.04680165 11.44823329]]\n"
     ]
    }
   ],
   "source": [
    "# we omit the rounding step for now\n",
    "\n",
    "print(w2)\n",
    "print(p2[0][0:5,])\n",
    "print(c2[0][0:5,])"
   ]
  },
  {
   "cell_type": "code",
   "execution_count": 24,
   "id": "f8f74461",
   "metadata": {},
   "outputs": [],
   "source": [
    "pred2,postd2 = permutest_by_timeperiod(PREtp, POSTtp, functiontype = 'all', samplesize = 100)"
   ]
  },
  {
   "cell_type": "code",
   "execution_count": 25,
   "id": "96ab720d",
   "metadata": {
    "scrolled": true
   },
   "outputs": [
    {
     "data": {
      "image/png": "[encoded data removed]",
      "text/plain": [
       "<Figure size 432x288 with 1 Axes>"
      ]
     },
     "metadata": {
      "needs_background": "light"
     },
     "output_type": "display_data"
    }
   ],
   "source": [
    "years = [2010,2011,2012,2013,2014,2015,2016,2017,2018,2019,2020]\n",
    "plot_byperiod_distances(pred2, postd2, years)"
   ]
  },
  {
   "cell_type": "markdown",
   "id": "cb89cfe7",
   "metadata": {},
   "source": [
   ]
  }
 ],
 "metadata": {
  "kernelspec": {
   "display_name": "Python 3 (ipykernel)",
   "language": "python",
   "name": "python3"
  },
  "language_info": {
   "codemirror_mode": {
    "name": "ipython",
    "version": 3
   },
   "file_extension": ".py",
   "mimetype": "text/x-python",
   "name": "python",
   "nbconvert_exporter": "python",
   "pygments_lexer": "ipython3",
   "version": "3.9.6"
  }
 },
 "nbformat": 4,
 "nbformat_minor": 5
}
