{
 "cells": [
  {
   "cell_type": "code",
   "execution_count": 99,
   "id": "06568c41",
   "metadata": {},
   "outputs": [],
   "source": [
    "import numpy as np\n",
    "import pandas as pd\n",
    "import matplotlib.pylab as plt\n",
    "import ot\n",
    "import cvxpy as cp\n",
    "\n",
    "# Supplementary Packages\n",
    "#import scipy.stats as stats\n",
    "#import seaborn as sns\n",
    "#import scipy.special as sps\n",
    "#import time as t"
   ]
  },
  {
   "cell_type": "markdown",
   "id": "30b38653",
   "metadata": {},
   "source": [
    "## Functions"
   ]
  },
  {
   "cell_type": "code",
   "execution_count": 4,
   "id": "532c1063",
   "metadata": {},
   "outputs": [],
   "source": [
    "def baryc_proj(source, target, method):\n",
    "    \n",
    "    n1 = source.shape[0]\n",
    "    n2 = target.shape[0]   \n",
    "    p = source.shape[1]\n",
    "    a_ones, b_ones = np.ones((n1,)) / n1, np.ones((n2,)) / n2\n",
    "    \n",
    "    M = ot.dist(source, target)\n",
    "    M = M.astype('float64')\n",
    "    M /= M.max()\n",
    "    \n",
    "    if method == 'emd':\n",
    "        OTplan = ot.emd(a_ones, b_ones, M)\n",
    "        \n",
    "    elif method == 'entropic':\n",
    "        OTplan = ot.bregman.sinkhorn_stabilized(a_ones, b_ones, M, reg = 5*1e-3)\n",
    "    \n",
    "    # initialization\n",
    "    OTmap = np.empty((0, p))\n",
    "\n",
    "    for i in range(n1):\n",
    "        \n",
    "        # normalization\n",
    "        OTplan[i,:] = OTplan[i,:] / sum(OTplan[i,:])\n",
    "    \n",
    "        # conditional expectation\n",
    "        OTmap = np.vstack([OTmap, (target.T @ OTplan[i,:])])\n",
    "    \n",
    "    OTmap = np.array(OTmap)\n",
    "    \n",
    "    return(OTmap)"
   ]
  },
  {
   "cell_type": "code",
   "execution_count": 5,
   "id": "acacf3f6",
   "metadata": {},
   "outputs": [],
   "source": [
    "def DSCreplicationV2(target, controls, method = 'emd'):\n",
    "    \n",
    "    n = target.shape[0]\n",
    "    d = target.shape[1]\n",
    "    J = len(controls)\n",
    "    \n",
    "    \n",
    "    # Barycentric Projection\n",
    "    G_list = []\n",
    "    proj_list = []\n",
    "    for i in range(len(controls)):\n",
    "        temp = baryc_proj(target, controls[i], method)\n",
    "        G_list.append(temp)\n",
    "        proj_list.append(temp - target)\n",
    "    \n",
    "    \n",
    "    # Obtain optimal weights\n",
    "    mylambda = cp.Variable(J)\n",
    "\n",
    "    objective = cp.Minimize(\n",
    "                    cp.sum(\n",
    "                    cp.sum(\n",
    "                    cp.sum([a*b for a,b in zip(mylambda, proj_list)])**2))/n\n",
    "                    )\n",
    "    \n",
    "    constraints = [mylambda >= 0, mylambda <= 1, cp.sum(mylambda) == 1]\n",
    "\n",
    "    prob = cp.Problem(objective, constraints)\n",
    "    prob.solve()\n",
    "    \n",
    "    weights = mylambda.value\n",
    "    replication = sum([a*b for a,b in zip(weights, G_list)])\n",
    "    \n",
    "    \n",
    "    return(weights, replication)"
   ]
  },
  {
   "cell_type": "markdown",
   "id": "1631b8b8",
   "metadata": {},
   "source": [
    "## Medicare Data"
   ]
  },
  {
   "cell_type": "code",
   "execution_count": 134,
   "id": "03bc1e21",
   "metadata": {},
   "outputs": [],
   "source": [
    "def read_medicaid(file_name, sample = False):\n",
    "    \n",
    "    columns = ['HINSCAID','EMPSTAT','UHRSWORK','INCWAGE']\n",
    "    df = pd.read_csv(file_name)[columns]\n",
    "    \n",
    "    if sample:\n",
    "        df = df.sample(1500, random_state = 31)\n",
    "    \n",
    "    return(np.array(df))"
   ]
  },
  {
   "cell_type": "code",
   "execution_count": 135,
   "id": "5992e1ed",
   "metadata": {},
   "outputs": [],
   "source": [
    "import os, glob\n",
    "medidata = []\n",
    "\n",
    "# check path\n",
    "for file in glob.glob(\"workingData/medicaid/*.csv\"):\n",
    "    medidata.append(read_medicaid(file, sample = True))\n",
    "\n",
    "medidata.insert(0, medidata.pop(12)) # Move Montana to front of list(why is mt 12?)\n",
    "medi_target = medidata[0]\n",
    "medi_controls = medidata[1:]"
   ]
  },
  {
   "cell_type": "markdown",
   "id": "8fe6f374",
   "metadata": {},
   "source": [
    "### Test Run"
   ]
  },
  {
   "cell_type": "code",
   "execution_count": 144,
   "id": "09df79c4",
   "metadata": {
    "scrolled": true
   },
   "outputs": [],
   "source": [
    "weightsm, replicationm = DSCreplicationV2(medi_target, medi_controls)\n",
    "\n",
    "# round integer columns\n",
    "replicationm[:,0:2] = replicationm[:,0:2].round(decimals = 0).astype('int64')"
   ]
  },
  {
   "cell_type": "code",
   "execution_count": 139,
   "id": "9bfb5361",
   "metadata": {
    "scrolled": false
   },
   "outputs": [
    {
     "data": {
      "text/plain": [
       "array([[ 1.   ,  1.   , 70.2  ,  7.02 ],\n",
       "       [ 1.   ,  1.   , 12.3  ,  0.697],\n",
       "       [ 1.   ,  1.   , 56.4  , 14.1  ],\n",
       "       [ 1.   ,  1.   , 54.   ,  5.4  ],\n",
       "       [ 1.   ,  1.   , 33.6  ,  0.864]])"
      ]
     },
     "execution_count": 139,
     "metadata": {},
     "output_type": "execute_result"
    }
   ],
   "source": [
    "medi_target[0:5,:]"
   ]
  },
  {
   "cell_type": "code",
   "execution_count": 138,
   "id": "164c6f39",
   "metadata": {},
   "outputs": [
    {
     "data": {
      "text/plain": [
       "array([[ 1.        ,  1.        , 71.90022558,  7.19810445],\n",
       "       [ 1.        ,  1.        , 15.16939479,  1.0103089 ],\n",
       "       [ 1.        ,  1.        , 56.44855072, 16.06089581],\n",
       "       [ 1.        ,  1.        , 53.59277635,  5.87825981],\n",
       "       [ 1.        ,  1.        , 33.87781331,  1.38014257]])"
      ]
     },
     "execution_count": 138,
     "metadata": {},
     "output_type": "execute_result"
    }
   ],
   "source": [
    "replicationm[0:5,:]"
   ]
  },
  {
   "cell_type": "markdown",
   "id": "4873366a",
   "metadata": {},
   "source": [
    "## RESULTS"
   ]
  },
  {
   "cell_type": "markdown",
   "id": "e1556818",
   "metadata": {},
   "source": [
    "### HINSCAID"
   ]
  },
  {
   "cell_type": "code",
   "execution_count": 147,
   "id": "766131fe",
   "metadata": {},
   "outputs": [
    {
     "data": {
      "text/plain": [
       "17"
      ]
     },
     "execution_count": 147,
     "metadata": {},
     "output_type": "execute_result"
    }
   ],
   "source": [
    "1500 - sum(medi_target[:,0] == replicationm[:,0]) ## number of misses"
   ]
  },
  {
   "cell_type": "markdown",
   "id": "e2cc8e64",
   "metadata": {},
   "source": [
    "### EMPSTAT"
   ]
  },
  {
   "cell_type": "code",
   "execution_count": 148,
   "id": "89447384",
   "metadata": {},
   "outputs": [
    {
     "data": {
      "text/plain": [
       "18"
      ]
     },
     "execution_count": 148,
     "metadata": {},
     "output_type": "execute_result"
    }
   ],
   "source": [
    "1500 - sum(medi_target[:,1] == replicationm[:,1]) ## number of misses"
   ]
  },
  {
   "cell_type": "markdown",
   "id": "abb653bc",
   "metadata": {},
   "source": [
    "### UHRSWORK"
   ]
  },
  {
   "cell_type": "code",
   "execution_count": 142,
   "id": "47a7128d",
   "metadata": {
    "scrolled": false
   },
   "outputs": [
    {
     "data": {
      "text/plain": [
       "(array([918., 388., 111.,  46.,  22.,  11.,   3.,   0.,   0.,   1.]),\n",
       " array([  0.44 ,  37.756,  75.072, 112.388, 149.704, 187.02 , 224.336,\n",
       "        261.652, 298.968, 336.284, 373.6  ]),\n",
       " <BarContainer object of 10 artists>)"
      ]
     },
     "execution_count": 142,
     "metadata": {},
     "output_type": "execute_result"
    },
    {
     "data": {
      "image/png": "[encoded data removed]",
      "text/plain": [
       "<Figure size 432x288 with 1 Axes>"
      ]
     },
     "metadata": {
      "needs_background": "light"
     },
     "output_type": "display_data"
    }
   ],
   "source": [
    "plt.hist(medi_target[:,2])"
   ]
  },
  {
   "cell_type": "code",
   "execution_count": 143,
   "id": "aa31f1bf",
   "metadata": {
    "scrolled": false
   },
   "outputs": [
    {
     "data": {
      "text/plain": [
       "(array([925., 385., 119.,  40.,  16.,   8.,   5.,   1.,   0.,   1.]),\n",
       " array([  0.7778196 ,  38.79307646,  76.80833331, 114.82359017,\n",
       "        152.83884702, 190.85410388, 228.86936074, 266.88461759,\n",
       "        304.89987445, 342.9151313 , 380.93038816]),\n",
       " <BarContainer object of 10 artists>)"
      ]
     },
     "execution_count": 143,
     "metadata": {},
     "output_type": "execute_result"
    },
    {
     "data": {
      "image/png": "[encoded data removed]",
      "text/plain": [
       "<Figure size 432x288 with 1 Axes>"
      ]
     },
     "metadata": {
      "needs_background": "light"
     },
     "output_type": "display_data"
    }
   ],
   "source": [
    "plt.hist(replicationm[:,2])"
   ]
  },
  {
   "cell_type": "markdown",
   "id": "3160e57b",
   "metadata": {},
   "source": [
    "### INCWAGE"
   ]
  },
  {
   "cell_type": "code",
   "execution_count": 149,
   "id": "0b800a05",
   "metadata": {
    "scrolled": true
   },
   "outputs": [
    {
     "data": {
      "text/plain": [
       "(array([1.198e+03, 2.060e+02, 5.100e+01, 2.600e+01, 1.000e+01, 4.000e+00,\n",
       "        1.000e+00, 1.000e+00, 2.000e+00, 1.000e+00]),\n",
       " array([ 0.    ,  5.7057, 11.4114, 17.1171, 22.8228, 28.5285, 34.2342,\n",
       "        39.9399, 45.6456, 51.3513, 57.057 ]),\n",
       " <BarContainer object of 10 artists>)"
      ]
     },
     "execution_count": 149,
     "metadata": {},
     "output_type": "execute_result"
    },
    {
     "data": {
      "image/png": "[encoded data removed]",
      "text/plain": [
       "<Figure size 432x288 with 1 Axes>"
      ]
     },
     "metadata": {
      "needs_background": "light"
     },
     "output_type": "display_data"
    }
   ],
   "source": [
    "plt.hist(medi_target[:,3])"
   ]
  },
  {
   "cell_type": "code",
   "execution_count": 150,
   "id": "9be2c0b8",
   "metadata": {
    "scrolled": true
   },
   "outputs": [
    {
     "data": {
      "text/plain": [
       "(array([1.257e+03, 1.650e+02, 4.400e+01, 1.900e+01, 6.000e+00, 2.000e+00,\n",
       "        3.000e+00, 2.000e+00, 1.000e+00, 1.000e+00]),\n",
       " array([2.17089367e-20, 7.43010488e+00, 1.48602098e+01, 2.22903147e+01,\n",
       "        2.97204195e+01, 3.71505244e+01, 4.45806293e+01, 5.20107342e+01,\n",
       "        5.94408391e+01, 6.68709440e+01, 7.43010488e+01]),\n",
       " <BarContainer object of 10 artists>)"
      ]
     },
     "execution_count": 150,
     "metadata": {},
     "output_type": "execute_result"
    },
    {
     "data": {
      "image/png": "[encoded data removed]",
      "text/plain": [
       "<Figure size 432x288 with 1 Axes>"
      ]
     },
     "metadata": {
      "needs_background": "light"
     },
     "output_type": "display_data"
    }
   ],
   "source": [
    "plt.hist(replicationm[:,3])"
   ]
  },
  {
   "cell_type": "markdown",
   "id": "86f4f9c0",
   "metadata": {},
   "source": [
    "### Notes:\n",
    "* This replication was obtained using all 12 controls, all of them sampled without replacement at n=1500.\n",
    "* I think the replications are quite accurate; they seem to 'preserve the geometry' of the target distributions\n",
    "* The right tail of the INCWAGE column is not replicated as well. However, the point at the right end are outliers and I feel like all machine learning are prone to this level of error.\n",
    "* One thing to figure out is when to do the rounding. For this test run, binary columns are rounded after the replication, but I am unsure of the theoretical validity. One option is to round at the barycentric projection step, but in this case, we might have to round once more after we multiply the optimal weights.\n",
    "* This test run used 1500 observations, and it took 4 seconds to run on my personal laptop. If we were to utilize the GL cluster, I believe we can use even more than 10k observations. And another test run I did with 150 was worse than with 1500, so we might have even better replications with 10k."
   ]
  },
  {
   "cell_type": "code",
   "execution_count": null,
   "id": "1d8edb9b",
   "metadata": {},
   "outputs": [],
   "source": []
  },
  {
   "cell_type": "code",
   "execution_count": null,
   "id": "6d30a992",
   "metadata": {},
   "outputs": [],
   "source": []
  }
 ],
 "metadata": {
  "kernelspec": {
   "display_name": "Python 3 (ipykernel)",
   "language": "python",
   "name": "python3"
  },
  "language_info": {
   "codemirror_mode": {
    "name": "ipython",
    "version": 3
   },
   "file_extension": ".py",
   "mimetype": "text/x-python",
   "name": "python",
   "nbconvert_exporter": "python",
   "pygments_lexer": "ipython3",
   "version": "3.9.6"
  }
 },
 "nbformat": 4,
 "nbformat_minor": 5
}
