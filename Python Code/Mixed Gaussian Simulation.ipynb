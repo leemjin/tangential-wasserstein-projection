{
 "cells": [
  {
   "cell_type": "code",
   "execution_count": 1,
   "id": "06568c41",
   "metadata": {},
   "outputs": [],
   "source": [
    "import numpy as np\n",
    "import pandas as pd\n",
    "import matplotlib.pylab as plt\n",
    "import ot\n",
    "import cvxpy as cp\n",
    "import seaborn as sns\n",
    "\n",
    "# Supplementary Packages\n",
    "#import scipy.stats as stats\n",
    "#import scipy.special as sps\n",
    "#import time as t"
   ]
  },
  {
   "cell_type": "markdown",
   "id": "30b38653",
   "metadata": {},
   "source": [
    "## Functions"
   ]
  },
  {
   "cell_type": "code",
   "execution_count": 2,
   "id": "532c1063",
   "metadata": {},
   "outputs": [],
   "source": [
    "def baryc_proj(source, target, method = 'emd'):\n",
    "    \n",
    "    n1 = source.shape[0]\n",
    "    n2 = target.shape[0]   \n",
    "    p = source.shape[1]\n",
    "    a_ones, b_ones = np.ones((n1,)) / n1, np.ones((n2,)) / n2\n",
    "    \n",
    "    M = ot.dist(source, target)\n",
    "    M = M.astype('float64')\n",
    "    M /= M.max()\n",
    "    \n",
    "    if method == 'emd':\n",
    "        OTplan = ot.emd(a_ones, b_ones, M, numItermax = 1e7)\n",
    "        \n",
    "    elif method == 'entropic':\n",
    "        OTplan = ot.bregman.sinkhorn_stabilized(a_ones, b_ones, M, reg = 5*1e-3)\n",
    "    \n",
    "    # initialization\n",
    "    OTmap = np.empty((0, p))\n",
    "\n",
    "    for i in range(n1):\n",
    "        \n",
    "        # normalization\n",
    "        OTplan[i,:] = OTplan[i,:] / sum(OTplan[i,:])\n",
    "    \n",
    "        # conditional expectation\n",
    "        OTmap = np.vstack([OTmap, (target.T @ OTplan[i,:])])\n",
    "    \n",
    "    OTmap = np.array(OTmap)\n",
    "    \n",
    "    return(OTmap)"
   ]
  },
  {
   "cell_type": "code",
   "execution_count": 3,
   "id": "a0f6c1b5",
   "metadata": {},
   "outputs": [],
   "source": [
    "def DSCreplication(target, controls, method = 'emd'):\n",
    "    \n",
    "    n = target.shape[0]\n",
    "    d = target.shape[1]\n",
    "    J = len(controls)\n",
    "    S = np.mean(target)*n*d*J\n",
    "    \n",
    "    \n",
    "    # Barycentric Projection\n",
    "    G_list = []\n",
    "    proj_list = []\n",
    "    for i in range(len(controls)):\n",
    "        temp = baryc_proj(target, controls[i], method)\n",
    "        G_list.append(temp)\n",
    "        proj_list.append(temp - target)\n",
    "    \n",
    "    \n",
    "    # Obtain optimal weights\n",
    "    mylambda = cp.Variable(J)\n",
    "\n",
    "    objective = cp.Minimize(\n",
    "                    cp.sum_squares(\n",
    "                    cp.sum([a*b for a,b in zip(mylambda, proj_list)], axis = 0))/S\n",
    "                    )\n",
    "    constraints = [mylambda >= 0, mylambda <= 1, cp.sum(mylambda) == 1]\n",
    "\n",
    "    prob = cp.Problem(objective, constraints)\n",
    "    prob.solve()\n",
    "    \n",
    "    \n",
    "    weights = mylambda.value\n",
    "    projection = sum([a*b for a,b in zip(weights, G_list)])\n",
    "    \n",
    "    return(weights, projection)"
   ]
  },
  {
   "cell_type": "markdown",
   "id": "c5c09fdd",
   "metadata": {},
   "source": [
    "## Mixed Multivariate Normal"
   ]
  },
  {
   "cell_type": "code",
   "execution_count": 4,
   "id": "c3cef93e",
   "metadata": {},
   "outputs": [],
   "source": [
    "def mixed_multi_gauss(mean1, mean2, mean3, cov1, cov2, cov3, samplesize, partition1, partition2):\n",
    "    \n",
    "    size1 = int(samplesize * partition1)\n",
    "    size2 = int(samplesize * partition2)\n",
    "    size3 = int(samplesize - size1 - size2)\n",
    "    \n",
    "    gauss1 = np.random.multivariate_normal(mean = mean1, cov = cov1, size = size1)\n",
    "    gauss2 = np.random.multivariate_normal(mean = mean2, cov = cov2, size = size2)\n",
    "    gauss3 = np.random.multivariate_normal(mean = mean3, cov = cov3, size = size3)\n",
    "    \n",
    "    mixed = np.concatenate((gauss1, gauss2, gauss3), axis = 0)\n",
    "    np.random.shuffle(mixed)\n",
    "    \n",
    "    return(mixed)"
   ]
  },
  {
   "cell_type": "code",
   "execution_count": 5,
   "id": "d957c4a0",
   "metadata": {},
   "outputs": [],
   "source": [
    "np.random.seed(31)\n",
    "\n",
    "dim = 10\n",
    "obs = 10000\n",
    "\n",
    "mu1 = [10]*dim\n",
    "mu2 = [50]*dim\n",
    "mu3 = [200]*dim\n",
    "mu4 = [-50]*dim\n",
    "mu5 = [-100]*dim\n",
    "\n",
    "covmat = np.full((dim, dim), 0.5)\n",
    "np.fill_diagonal(covmat, 1)\n",
    "\n",
    "\n",
    "X1 = np.random.multivariate_normal(mean = mu1, cov = covmat, size = obs)\n",
    "X2 = np.random.multivariate_normal(mean = mu2, cov = covmat, size = obs)\n",
    "X3 = np.random.multivariate_normal(mean = mu3, cov = covmat, size = obs)\n",
    "X4 = np.random.multivariate_normal(mean = mu4, cov = covmat, size = obs)\n",
    "\n",
    "\n",
    "Y1 = mixed_multi_gauss(mu1, mu2, mu3, covmat, covmat, covmat, obs, 0.3, 0.6)\n",
    "Y2 = mixed_multi_gauss(mu1, mu2, mu3, covmat, covmat, covmat, obs, 0.8, 0.1)\n",
    "Y3 = mixed_multi_gauss(mu2, mu3, mu4, covmat, covmat, covmat, obs, 0.2, 0.7)\n",
    "Y4 = mixed_multi_gauss(mu1, mu3, mu4, covmat, covmat, covmat, obs, 0.2, 0.2)"
   ]
  },
  {
   "cell_type": "markdown",
   "id": "8d4a075c",
   "metadata": {},
   "source": [
    "## X"
   ]
  },
  {
   "cell_type": "code",
   "execution_count": 6,
   "id": "601df883",
   "metadata": {},
   "outputs": [
    {
     "data": {
      "text/plain": [
       "array([0.36424792, 0.09429699, 0.54145509])"
      ]
     },
     "execution_count": 6,
     "metadata": {},
     "output_type": "execute_result"
    }
   ],
   "source": [
    "weightsX, projectionX = DSCreplication(X1, [X2, X3, X4])\n",
    "weightsX"
   ]
  },
  {
   "cell_type": "code",
   "execution_count": 8,
   "id": "2a416fe7",
   "metadata": {},
   "outputs": [
    {
     "data": {
      "text/html": [
       "<div>\n",
       "<style scoped>\n",
       "    .dataframe tbody tr th:only-of-type {\n",
       "        vertical-align: middle;\n",
       "    }\n",
       "\n",
       "    .dataframe tbody tr th {\n",
       "        vertical-align: top;\n",
       "    }\n",
       "\n",
       "    .dataframe thead th {\n",
       "        text-align: right;\n",
       "    }\n",
       "</style>\n",
       "<table border=\"1\" class=\"dataframe\">\n",
       "  <thead>\n",
       "    <tr style=\"text-align: right;\">\n",
       "      <th></th>\n",
       "      <th>0</th>\n",
       "      <th>1</th>\n",
       "      <th>2</th>\n",
       "      <th>3</th>\n",
       "      <th>4</th>\n",
       "      <th>5</th>\n",
       "      <th>6</th>\n",
       "      <th>7</th>\n",
       "      <th>8</th>\n",
       "      <th>9</th>\n",
       "    </tr>\n",
       "  </thead>\n",
       "  <tbody>\n",
       "    <tr>\n",
       "      <th>mean</th>\n",
       "      <td>10.011210</td>\n",
       "      <td>9.997860</td>\n",
       "      <td>10.010733</td>\n",
       "      <td>9.999980</td>\n",
       "      <td>10.010595</td>\n",
       "      <td>9.989504</td>\n",
       "      <td>10.006829</td>\n",
       "      <td>10.002123</td>\n",
       "      <td>10.005622</td>\n",
       "      <td>10.002296</td>\n",
       "    </tr>\n",
       "    <tr>\n",
       "      <th>mean</th>\n",
       "      <td>10.005615</td>\n",
       "      <td>10.001172</td>\n",
       "      <td>10.006146</td>\n",
       "      <td>10.000823</td>\n",
       "      <td>10.006908</td>\n",
       "      <td>10.007984</td>\n",
       "      <td>10.001690</td>\n",
       "      <td>10.003112</td>\n",
       "      <td>10.005313</td>\n",
       "      <td>10.000683</td>\n",
       "    </tr>\n",
       "  </tbody>\n",
       "</table>\n",
       "</div>"
      ],
      "text/plain": [
       "              0          1          2          3          4          5  \\\n",
       "mean  10.011210   9.997860  10.010733   9.999980  10.010595   9.989504   \n",
       "mean  10.005615  10.001172  10.006146  10.000823  10.006908  10.007984   \n",
       "\n",
       "              6          7          8          9  \n",
       "mean  10.006829  10.002123  10.005622  10.002296  \n",
       "mean  10.001690  10.003112  10.005313  10.000683  "
      ]
     },
     "execution_count": 8,
     "metadata": {},
     "output_type": "execute_result"
    }
   ],
   "source": [
    "meansX = pd.concat((pd.DataFrame(X1).describe().iloc[1,:], \n",
    "           pd.DataFrame(projectionX).describe().iloc[1,:]), axis = 1).transpose()\n",
    "meansX"
   ]
  },
  {
   "cell_type": "code",
   "execution_count": 7,
   "id": "14124da6",
   "metadata": {
    "scrolled": false
   },
   "outputs": [
    {
     "data": {
      "text/plain": [
       "<AxesSubplot:ylabel='Count'>"
      ]
     },
     "execution_count": 7,
     "metadata": {},
     "output_type": "execute_result"
    },
    {
     "data": {
      "image/png": "[encoded data removed]",
      "text/plain": [
       "<Figure size 432x288 with 1 Axes>"
      ]
     },
     "metadata": {
      "needs_background": "light"
     },
     "output_type": "display_data"
    }
   ],
   "source": [
    "sns.histplot(np.mean(X1, axis = 1), color = 'skyblue', alpha = 1)\n",
    "sns.histplot(np.mean(projectionX, axis = 1), color = 'orange', alpha = 0.5)"
   ]
  },
  {
   "cell_type": "markdown",
   "id": "f2a3be69",
   "metadata": {},
   "source": [
    "# Y"
   ]
  },
  {
   "cell_type": "code",
   "execution_count": 11,
   "id": "d7ee0f57",
   "metadata": {},
   "outputs": [
    {
     "data": {
      "text/plain": [
       "array([ 8.20419571e-01,  1.79580429e-01, -1.21374041e-13])"
      ]
     },
     "execution_count": 11,
     "metadata": {},
     "output_type": "execute_result"
    }
   ],
   "source": [
    "weightsY, projectionY = DSCreplication(Y1, [Y2, Y3, Y4])\n",
    "weightsY"
   ]
  },
  {
   "cell_type": "code",
   "execution_count": 12,
   "id": "66f82749",
   "metadata": {},
   "outputs": [
    {
     "data": {
      "text/html": [
       "<div>\n",
       "<style scoped>\n",
       "    .dataframe tbody tr th:only-of-type {\n",
       "        vertical-align: middle;\n",
       "    }\n",
       "\n",
       "    .dataframe tbody tr th {\n",
       "        vertical-align: top;\n",
       "    }\n",
       "\n",
       "    .dataframe thead th {\n",
       "        text-align: right;\n",
       "    }\n",
       "</style>\n",
       "<table border=\"1\" class=\"dataframe\">\n",
       "  <thead>\n",
       "    <tr style=\"text-align: right;\">\n",
       "      <th></th>\n",
       "      <th>0</th>\n",
       "      <th>1</th>\n",
       "      <th>2</th>\n",
       "      <th>3</th>\n",
       "      <th>4</th>\n",
       "      <th>5</th>\n",
       "      <th>6</th>\n",
       "      <th>7</th>\n",
       "      <th>8</th>\n",
       "      <th>9</th>\n",
       "    </tr>\n",
       "  </thead>\n",
       "  <tbody>\n",
       "    <tr>\n",
       "      <th>mean</th>\n",
       "      <td>52.993670</td>\n",
       "      <td>52.991194</td>\n",
       "      <td>52.991719</td>\n",
       "      <td>52.997722</td>\n",
       "      <td>52.997866</td>\n",
       "      <td>52.996947</td>\n",
       "      <td>53.006997</td>\n",
       "      <td>52.994608</td>\n",
       "      <td>52.992457</td>\n",
       "      <td>53.006183</td>\n",
       "    </tr>\n",
       "    <tr>\n",
       "      <th>mean</th>\n",
       "      <td>53.113973</td>\n",
       "      <td>53.106591</td>\n",
       "      <td>53.108098</td>\n",
       "      <td>53.121586</td>\n",
       "      <td>53.114572</td>\n",
       "      <td>53.112659</td>\n",
       "      <td>53.112439</td>\n",
       "      <td>53.121735</td>\n",
       "      <td>53.106264</td>\n",
       "      <td>53.122041</td>\n",
       "    </tr>\n",
       "  </tbody>\n",
       "</table>\n",
       "</div>"
      ],
      "text/plain": [
       "              0          1          2          3          4          5  \\\n",
       "mean  52.993670  52.991194  52.991719  52.997722  52.997866  52.996947   \n",
       "mean  53.113973  53.106591  53.108098  53.121586  53.114572  53.112659   \n",
       "\n",
       "              6          7          8          9  \n",
       "mean  53.006997  52.994608  52.992457  53.006183  \n",
       "mean  53.112439  53.121735  53.106264  53.122041  "
      ]
     },
     "execution_count": 12,
     "metadata": {},
     "output_type": "execute_result"
    }
   ],
   "source": [
    "meansY = pd.concat((pd.DataFrame(Y1).describe().iloc[1,:], \n",
    "           pd.DataFrame(projectionY).describe().iloc[1,:]), axis = 1).transpose()\n",
    "meansY"
   ]
  },
  {
   "cell_type": "code",
   "execution_count": 13,
   "id": "36c9f128",
   "metadata": {
    "scrolled": false
   },
   "outputs": [
    {
     "data": {
      "text/plain": [
       "<AxesSubplot:ylabel='Count'>"
      ]
     },
     "execution_count": 13,
     "metadata": {},
     "output_type": "execute_result"
    },
    {
     "data": {
      "image/png": "[encoded data removed]",
      "text/plain": [
       "<Figure size 432x288 with 1 Axes>"
      ]
     },
     "metadata": {
      "needs_background": "light"
     },
     "output_type": "display_data"
    }
   ],
   "source": [
    "sns.histplot(np.mean(Y1, axis = 1), color = 'royalblue')\n",
    "sns.histplot(np.mean(projectionY, axis = 1), color = 'darkorange', alpha = 0.5)"
   ]
  }
 ],
 "metadata": {
  "kernelspec": {
   "display_name": "Python 3 (ipykernel)",
   "language": "python",
   "name": "python3"
  },
  "language_info": {
   "codemirror_mode": {
    "name": "ipython",
    "version": 3
   },
   "file_extension": ".py",
   "mimetype": "text/x-python",
   "name": "python",
   "nbconvert_exporter": "python",
   "pygments_lexer": "ipython3",
   "version": "3.9.6"
  }
 },
 "nbformat": 4,
 "nbformat_minor": 5
}
