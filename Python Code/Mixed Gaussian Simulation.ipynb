{
 "cells": [
  {
   "cell_type": "code",
   "execution_count": 1,
   "id": "06568c41",
   "metadata": {},
   "outputs": [],
   "source": [
    "import numpy as np\n",
    "import pandas as pd\n",
    "import matplotlib.pylab as plt\n",
    "import ot\n",
    "import cvxpy as cp\n",
    "import seaborn as sns\n",
    "import twp_utils as twp\n",
    "\n",
    "# Supplementary Packages\n",
    "#import scipy.stats as stats\n",
    "#import scipy.special as sps\n",
    "#import time as t"
   ]
  },
  {
   "cell_type": "markdown",
   "id": "c5c09fdd",
   "metadata": {},
   "source": [
    "## Mixed Multivariate Normal"
   ]
  },
  {
   "cell_type": "code",
   "execution_count": 2,
   "id": "c3cef93e",
   "metadata": {},
   "outputs": [],
   "source": [
    "def mixed_multi_gauss(mean1, mean2, mean3, cov1, cov2, cov3, samplesize, partition1, partition2):\n",
    "    \n",
    "    size1 = int(samplesize * partition1)\n",
    "    size2 = int(samplesize * partition2)\n",
    "    size3 = int(samplesize - size1 - size2)\n",
    "    \n",
    "    gauss1 = np.random.multivariate_normal(mean = mean1, cov = cov1, size = size1)\n",
    "    gauss2 = np.random.multivariate_normal(mean = mean2, cov = cov2, size = size2)\n",
    "    gauss3 = np.random.multivariate_normal(mean = mean3, cov = cov3, size = size3)\n",
    "    \n",
    "    mixed = np.concatenate((gauss1, gauss2, gauss3), axis = 0)\n",
    "    np.random.shuffle(mixed)\n",
    "    \n",
    "    return(mixed)"
   ]
  },
  {
   "cell_type": "code",
   "execution_count": 3,
   "id": "d957c4a0",
   "metadata": {},
   "outputs": [],
   "source": [
    "np.random.seed(31)\n",
    "\n",
    "dim = 10\n",
    "obs = 1000\n",
    "\n",
    "mu1 = [10]*dim\n",
    "mu2 = [50]*dim\n",
    "mu3 = [200]*dim\n",
    "mu4 = [-50]*dim\n",
    "mu5 = [-100]*dim\n",
    "\n",
    "covmat = np.full((dim, dim), 0.5)\n",
    "np.fill_diagonal(covmat, 1)\n",
    "\n",
    "\n",
    "X1 = np.random.multivariate_normal(mean = mu1, cov = covmat, size = obs)\n",
    "X2 = np.random.multivariate_normal(mean = mu2, cov = covmat, size = obs)\n",
    "X3 = np.random.multivariate_normal(mean = mu3, cov = covmat, size = obs)\n",
    "X4 = np.random.multivariate_normal(mean = mu4, cov = covmat, size = obs)\n",
    "\n",
    "\n",
    "Y1 = mixed_multi_gauss(mu1, mu2, mu3, covmat, covmat, covmat, obs, 0.3, 0.6)\n",
    "Y2 = mixed_multi_gauss(mu1, mu2, mu3, covmat, covmat, covmat, obs, 0.8, 0.1)\n",
    "Y3 = mixed_multi_gauss(mu2, mu3, mu4, covmat, covmat, covmat, obs, 0.2, 0.7)\n",
    "Y4 = mixed_multi_gauss(mu1, mu3, mu4, covmat, covmat, covmat, obs, 0.2, 0.2)"
   ]
  },
  {
   "cell_type": "markdown",
   "id": "8d4a075c",
   "metadata": {},
   "source": [
    "## X"
   ]
  },
  {
   "cell_type": "code",
   "execution_count": 4,
   "id": "601df883",
   "metadata": {},
   "outputs": [
    {
     "data": {
      "text/plain": [
       "array([0.35563541, 0.09790178, 0.5464628 ])"
      ]
     },
     "execution_count": 4,
     "metadata": {},
     "output_type": "execute_result"
    }
   ],
   "source": [
    "weightsX, projectionX = twp.tan_wass_proj(X1, [X2, X3, X4])\n",
    "weightsX"
   ]
  },
  {
   "cell_type": "code",
   "execution_count": 5,
   "id": "2a416fe7",
   "metadata": {},
   "outputs": [
    {
     "data": {
      "text/html": [
       "<div>\n",
       "<style scoped>\n",
       "    .dataframe tbody tr th:only-of-type {\n",
       "        vertical-align: middle;\n",
       "    }\n",
       "\n",
       "    .dataframe tbody tr th {\n",
       "        vertical-align: top;\n",
       "    }\n",
       "\n",
       "    .dataframe thead th {\n",
       "        text-align: right;\n",
       "    }\n",
       "</style>\n",
       "<table border=\"1\" class=\"dataframe\">\n",
       "  <thead>\n",
       "    <tr style=\"text-align: right;\">\n",
       "      <th></th>\n",
       "      <th>0</th>\n",
       "      <th>1</th>\n",
       "      <th>2</th>\n",
       "      <th>3</th>\n",
       "      <th>4</th>\n",
       "      <th>5</th>\n",
       "      <th>6</th>\n",
       "      <th>7</th>\n",
       "      <th>8</th>\n",
       "      <th>9</th>\n",
       "    </tr>\n",
       "  </thead>\n",
       "  <tbody>\n",
       "    <tr>\n",
       "      <th>mean</th>\n",
       "      <td>10.092219</td>\n",
       "      <td>9.978631</td>\n",
       "      <td>10.045170</td>\n",
       "      <td>9.980574</td>\n",
       "      <td>10.070721</td>\n",
       "      <td>10.014731</td>\n",
       "      <td>10.081365</td>\n",
       "      <td>10.056725</td>\n",
       "      <td>10.034983</td>\n",
       "      <td>9.997672</td>\n",
       "    </tr>\n",
       "    <tr>\n",
       "      <th>mean</th>\n",
       "      <td>10.012259</td>\n",
       "      <td>10.046199</td>\n",
       "      <td>10.053189</td>\n",
       "      <td>10.027557</td>\n",
       "      <td>10.048977</td>\n",
       "      <td>10.018092</td>\n",
       "      <td>10.052721</td>\n",
       "      <td>10.028997</td>\n",
       "      <td>10.028189</td>\n",
       "      <td>10.040848</td>\n",
       "    </tr>\n",
       "  </tbody>\n",
       "</table>\n",
       "</div>"
      ],
      "text/plain": [
       "              0          1          2          3          4          5  \\\n",
       "mean  10.092219   9.978631  10.045170   9.980574  10.070721  10.014731   \n",
       "mean  10.012259  10.046199  10.053189  10.027557  10.048977  10.018092   \n",
       "\n",
       "              6          7          8          9  \n",
       "mean  10.081365  10.056725  10.034983   9.997672  \n",
       "mean  10.052721  10.028997  10.028189  10.040848  "
      ]
     },
     "execution_count": 5,
     "metadata": {},
     "output_type": "execute_result"
    }
   ],
   "source": [
    "meansX = pd.concat((pd.DataFrame(X1).describe().iloc[1,:], \n",
    "           pd.DataFrame(projectionX).describe().iloc[1,:]), axis = 1).transpose()\n",
    "meansX"
   ]
  },
  {
   "cell_type": "code",
   "execution_count": 6,
   "id": "14124da6",
   "metadata": {
    "scrolled": false
   },
   "outputs": [
    {
     "data": {
      "text/plain": [
       "<AxesSubplot:ylabel='Count'>"
      ]
     },
     "execution_count": 6,
     "metadata": {},
     "output_type": "execute_result"
    },
    {
     "data": {
      "image/png": "[encoded data removed]",
      "text/plain": [
       "<Figure size 432x288 with 1 Axes>"
      ]
     },
     "metadata": {
      "needs_background": "light"
     },
     "output_type": "display_data"
    }
   ],
   "source": [
    "sns.histplot(np.mean(X1, axis = 1), color = 'skyblue', alpha = 1)\n",
    "sns.histplot(np.mean(projectionX, axis = 1), color = 'orange', alpha = 0.5)"
   ]
  },
  {
   "cell_type": "markdown",
   "id": "f2a3be69",
   "metadata": {},
   "source": [
    "# Y"
   ]
  },
  {
   "cell_type": "code",
   "execution_count": 7,
   "id": "d7ee0f57",
   "metadata": {},
   "outputs": [
    {
     "data": {
      "text/plain": [
       "array([ 8.20138560e-01,  1.79861440e-01, -1.56233928e-16])"
      ]
     },
     "execution_count": 7,
     "metadata": {},
     "output_type": "execute_result"
    }
   ],
   "source": [
    "weightsY, projectionY = twp.tan_wass_proj(Y1, [Y2, Y3, Y4])\n",
    "weightsY"
   ]
  },
  {
   "cell_type": "code",
   "execution_count": 8,
   "id": "66f82749",
   "metadata": {},
   "outputs": [
    {
     "data": {
      "text/html": [
       "<div>\n",
       "<style scoped>\n",
       "    .dataframe tbody tr th:only-of-type {\n",
       "        vertical-align: middle;\n",
       "    }\n",
       "\n",
       "    .dataframe tbody tr th {\n",
       "        vertical-align: top;\n",
       "    }\n",
       "\n",
       "    .dataframe thead th {\n",
       "        text-align: right;\n",
       "    }\n",
       "</style>\n",
       "<table border=\"1\" class=\"dataframe\">\n",
       "  <thead>\n",
       "    <tr style=\"text-align: right;\">\n",
       "      <th></th>\n",
       "      <th>0</th>\n",
       "      <th>1</th>\n",
       "      <th>2</th>\n",
       "      <th>3</th>\n",
       "      <th>4</th>\n",
       "      <th>5</th>\n",
       "      <th>6</th>\n",
       "      <th>7</th>\n",
       "      <th>8</th>\n",
       "      <th>9</th>\n",
       "    </tr>\n",
       "  </thead>\n",
       "  <tbody>\n",
       "    <tr>\n",
       "      <th>mean</th>\n",
       "      <td>53.019178</td>\n",
       "      <td>53.067153</td>\n",
       "      <td>52.999586</td>\n",
       "      <td>52.993341</td>\n",
       "      <td>53.004658</td>\n",
       "      <td>52.991371</td>\n",
       "      <td>52.963285</td>\n",
       "      <td>53.029207</td>\n",
       "      <td>53.010614</td>\n",
       "      <td>53.016582</td>\n",
       "    </tr>\n",
       "    <tr>\n",
       "      <th>mean</th>\n",
       "      <td>53.132332</td>\n",
       "      <td>53.151176</td>\n",
       "      <td>53.162170</td>\n",
       "      <td>53.155804</td>\n",
       "      <td>53.119507</td>\n",
       "      <td>53.148273</td>\n",
       "      <td>53.126339</td>\n",
       "      <td>53.114342</td>\n",
       "      <td>53.145329</td>\n",
       "      <td>53.111309</td>\n",
       "    </tr>\n",
       "  </tbody>\n",
       "</table>\n",
       "</div>"
      ],
      "text/plain": [
       "              0          1          2          3          4          5  \\\n",
       "mean  53.019178  53.067153  52.999586  52.993341  53.004658  52.991371   \n",
       "mean  53.132332  53.151176  53.162170  53.155804  53.119507  53.148273   \n",
       "\n",
       "              6          7          8          9  \n",
       "mean  52.963285  53.029207  53.010614  53.016582  \n",
       "mean  53.126339  53.114342  53.145329  53.111309  "
      ]
     },
     "execution_count": 8,
     "metadata": {},
     "output_type": "execute_result"
    }
   ],
   "source": [
    "meansY = pd.concat((pd.DataFrame(Y1).describe().iloc[1,:], \n",
    "           pd.DataFrame(projectionY).describe().iloc[1,:]), axis = 1).transpose()\n",
    "meansY"
   ]
  },
  {
   "cell_type": "code",
   "execution_count": 9,
   "id": "36c9f128",
   "metadata": {
    "scrolled": false
   },
   "outputs": [
    {
     "data": {
      "text/plain": [
       "<AxesSubplot:ylabel='Count'>"
      ]
     },
     "execution_count": 9,
     "metadata": {},
     "output_type": "execute_result"
    },
    {
     "data": {
      "image/png": "[encoded data removed]",
      "text/plain": [
       "<Figure size 432x288 with 1 Axes>"
      ]
     },
     "metadata": {
      "needs_background": "light"
     },
     "output_type": "display_data"
    }
   ],
   "source": [
    "sns.histplot(np.mean(Y1, axis = 1), color = 'royalblue')\n",
    "sns.histplot(np.mean(projectionY, axis = 1), color = 'darkorange', alpha = 0.5)"
   ]
  }
 ],
 "metadata": {
  "kernelspec": {
   "display_name": "Python 3 (ipykernel)",
   "language": "python",
   "name": "python3"
  },
  "language_info": {
   "codemirror_mode": {
    "name": "ipython",
    "version": 3
   },
   "file_extension": ".py",
   "mimetype": "text/x-python",
   "name": "python",
   "nbconvert_exporter": "python",
   "pygments_lexer": "ipython3",
   "version": "3.9.6"
  }
 },
 "nbformat": 4,
 "nbformat_minor": 5
}
