{
 "cells": [
  {
   "cell_type": "code",
   "execution_count": 21,
   "id": "06568c41",
   "metadata": {},
   "outputs": [],
   "source": [
    "import numpy as np\n",
    "import pandas as pd\n",
    "import matplotlib.pylab as plt\n",
    "import ot\n",
    "import cvxpy as cp\n",
    "\n",
    "# Supplementary Packages\n",
    "#import scipy.stats as stats\n",
    "import seaborn as sns\n",
    "#import scipy.special as sps\n",
    "#import time as t"
   ]
  },
  {
   "cell_type": "markdown",
   "id": "30b38653",
   "metadata": {},
   "source": [
    "## Functions"
   ]
  },
  {
   "cell_type": "code",
   "execution_count": 22,
   "id": "532c1063",
   "metadata": {},
   "outputs": [],
   "source": [
    "def baryc_proj(source, target, method = 'emd'):\n",
    "    \n",
    "    n1 = source.shape[0]\n",
    "    n2 = target.shape[0]   \n",
    "    p = source.shape[1]\n",
    "    a_ones, b_ones = np.ones((n1,)) / n1, np.ones((n2,)) / n2\n",
    "    \n",
    "    M = ot.dist(source, target)\n",
    "    M = M.astype('float64')\n",
    "    M /= M.max()\n",
    "    \n",
    "    if method == 'emd':\n",
    "        OTplan = ot.emd(a_ones, b_ones, M, numItermax = 1e7)\n",
    "        \n",
    "    elif method == 'entropic':\n",
    "        OTplan = ot.bregman.sinkhorn_stabilized(a_ones, b_ones, M, reg = 5*1e-3)\n",
    "    \n",
    "    # initialization\n",
    "    OTmap = np.empty((0, p))\n",
    "\n",
    "    for i in range(n1):\n",
    "        \n",
    "        # normalization\n",
    "        OTplan[i,:] = OTplan[i,:] / sum(OTplan[i,:])\n",
    "    \n",
    "        # conditional expectation\n",
    "        OTmap = np.vstack([OTmap, (target.T @ OTplan[i,:])])\n",
    "    \n",
    "    OTmap = np.array(OTmap)\n",
    "    \n",
    "    return(OTmap)"
   ]
  },
  {
   "cell_type": "code",
   "execution_count": 23,
   "id": "384a959d",
   "metadata": {},
   "outputs": [],
   "source": [
    "def DSCreplication(target, controls, method = 'emd'):\n",
    "    \n",
    "    n = target.shape[0]\n",
    "    d = target.shape[1]\n",
    "    J = len(controls)\n",
    "    S = np.mean(target)*n*d*J #Stabilizer: to be used for optimization\n",
    "    \n",
    "    \n",
    "    # Barycentric Projection\n",
    "    G_list = []\n",
    "    proj_list = []\n",
    "    for i in range(len(controls)):\n",
    "        temp = baryc_proj(target, controls[i], method)\n",
    "        G_list.append(temp)\n",
    "        proj_list.append(temp - target)\n",
    "    \n",
    "    \n",
    "    # Obtain optimal weights\n",
    "    mylambda = cp.Variable(J)\n",
    "\n",
    "    objective = cp.Minimize(\n",
    "                    cp.sum(\n",
    "                    cp.sum(\n",
    "                    cp.sum([a*b for a,b in zip(mylambda, proj_list)])**2))/S\n",
    "                    )\n",
    "    \n",
    "    constraints = [mylambda >= 0, mylambda <= 1, cp.sum(mylambda) == 1]\n",
    "\n",
    "    prob = cp.Problem(objective, constraints)\n",
    "    prob.solve()\n",
    "    \n",
    "    weights = mylambda.value\n",
    "    replication = sum([a*b for a,b in zip(weights, G_list)])\n",
    "    \n",
    "    \n",
    "    return(weights, replication)"
   ]
  },
  {
   "cell_type": "markdown",
   "id": "c5c09fdd",
   "metadata": {},
   "source": [
    "## Mixed Multivariate Normal"
   ]
  },
  {
   "cell_type": "code",
   "execution_count": 24,
   "id": "c3cef93e",
   "metadata": {},
   "outputs": [],
   "source": [
    "def mixed_multi_gauss(mean1, mean2, mean3, cov1, cov2, cov3, samplesize, partition1, partition2):\n",
    "    \n",
    "    size1 = int(samplesize * partition1)\n",
    "    size2 = int(samplesize * partition2)\n",
    "    size3 = int(samplesize - size1 - size2)\n",
    "    \n",
    "    gauss1 = np.random.multivariate_normal(mean = mean1, cov = cov1, size = size1)\n",
    "    gauss2 = np.random.multivariate_normal(mean = mean2, cov = cov2, size = size2)\n",
    "    gauss3 = np.random.multivariate_normal(mean = mean3, cov = cov3, size = size3)\n",
    "    \n",
    "    mixed = np.concatenate((gauss1, gauss2, gauss3), axis = 0)\n",
    "    np.random.shuffle(mixed)\n",
    "    \n",
    "    return(mixed)\n",
    "\n",
    "def multi_gauss_mix(gauss_set, partition1, partition2):\n",
    "    \n",
    "    mixed = np.concatenate(gauss_set, axis = 0)\n",
    "    np.random.shuffle(mixed)\n",
    "    \n",
    "    return(mixed)"
   ]
  },
  {
   "cell_type": "code",
   "execution_count": 25,
   "id": "d957c4a0",
   "metadata": {},
   "outputs": [],
   "source": [
    "dim = 10\n",
    "obs = 1000\n",
    "\n",
    "mu1 = [10]*dim\n",
    "mu2 = [50]*dim\n",
    "mu3 = [200]*dim\n",
    "mu4 = [-50]*dim\n",
    "mu5 = [-10]*dim\n",
    "\n",
    "covmat = np.full((dim, dim), 0.5)\n",
    "np.fill_diagonal(covmat, 1)\n",
    "\n",
    "X1 = np.random.multivariate_normal(mean = mu1, cov = covmat, size = obs)\n",
    "X2 = np.random.multivariate_normal(mean = mu2, cov = covmat, size = obs)\n",
    "X3 = np.random.multivariate_normal(mean = mu3, cov = covmat, size = obs)\n",
    "X4 = np.random.multivariate_normal(mean = mu4, cov = covmat, size = obs)\n",
    "\n",
    "Y1 = mixed_multi_gauss(mu1, mu2, mu3, covmat, covmat, covmat, obs, 0.3, 0.6) #50\n",
    "Y2 = mixed_multi_gauss(mu1, mu2, mu3, covmat, covmat, covmat, obs, 0.8, 0.1) #33\n",
    "Y3 = mixed_multi_gauss(mu2, mu3, mu4, covmat, covmat, covmat, obs, 0.2, 0.7) #145\n",
    "Y4 = mixed_multi_gauss(mu1, mu3, mu4, covmat, covmat, covmat, obs, 0.2, 0.2) #12"
   ]
  },
  {
   "cell_type": "code",
   "execution_count": 26,
   "id": "601df883",
   "metadata": {},
   "outputs": [
    {
     "data": {
      "text/plain": [
       "array([0.35857968, 0.09665741, 0.54476292])"
      ]
     },
     "execution_count": 26,
     "metadata": {},
     "output_type": "execute_result"
    }
   ],
   "source": [
    "weightsx, replicationx = DSCreplication(X1, [X2, X3, X4]) # check\n",
    "weightsx"
   ]
  },
  {
   "cell_type": "code",
   "execution_count": 27,
   "id": "14124da6",
   "metadata": {
    "scrolled": true
   },
   "outputs": [
    {
     "data": {
      "image/png": "[encoded data removed]",
      "text/plain": [
       "<Figure size 432x288 with 1 Axes>"
      ]
     },
     "metadata": {
      "needs_background": "light"
     },
     "output_type": "display_data"
    }
   ],
   "source": [
    "sns.histplot(np.mean(X1, axis = 1), color = 'skyblue', alpha = 1)\n",
    "sns.histplot(np.mean(replicationx, axis = 1), color = 'orange', alpha = 0.5)\n",
    "\n",
    "plt.savefig('4_1X.png')"
   ]
  },
  {
   "cell_type": "code",
   "execution_count": 28,
   "id": "d7ee0f57",
   "metadata": {},
   "outputs": [
    {
     "data": {
      "text/plain": [
       "array([ 8.20450242e-01,  1.79549758e-01, -1.47513026e-16])"
      ]
     },
     "execution_count": 28,
     "metadata": {},
     "output_type": "execute_result"
    }
   ],
   "source": [
    "weightsy, replicationy = DSCreplication(Y1, [Y2, Y3, Y4])\n",
    "weightsy"
   ]
  },
  {
   "cell_type": "code",
   "execution_count": 32,
   "id": "36c9f128",
   "metadata": {
    "scrolled": true
   },
   "outputs": [
    {
     "data": {
      "image/png": "[encoded data removed]",
      "text/plain": [
       "<Figure size 432x288 with 1 Axes>"
      ]
     },
     "metadata": {
      "needs_background": "light"
     },
     "output_type": "display_data"
    }
   ],
   "source": [
    "sns.histplot(np.mean(Y1, axis = 1), color = 'skyblue')\n",
    "sns.histplot(np.mean(replicationy, axis = 1), color = 'orange')\n",
    "\n",
    "plt.savefig('4_1Y.png')"
   ]
  },
  {
   "cell_type": "code",
   "execution_count": 203,
   "id": "4a346af4",
   "metadata": {},
   "outputs": [
    {
     "data": {
      "text/plain": [
       "<matplotlib.collections.PathCollection at 0x17e19e6d0>"
      ]
     },
     "execution_count": 203,
     "metadata": {},
     "output_type": "execute_result"
    },
    {
     "data": {
      "image/png": "[encoded data removed]",
      "text/plain": [
       "<Figure size 432x288 with 1 Axes>"
      ]
     },
     "metadata": {
      "needs_background": "light"
     },
     "output_type": "display_data"
    }
   ],
   "source": [
    "# alternative plot\n",
    "## pick 2 dimensions that look best\n",
    "\n",
    "ax1 = plt.scatter(Y1[:,3], Y1[:,9])\n",
    "plt.scatter(replicationy[:,3], replicationy[:,9])"
   ]
  },
  {
   "cell_type": "code",
   "execution_count": 184,
   "id": "8f330bb0",
   "metadata": {
    "scrolled": true
   },
   "outputs": [
    {
     "data": {
      "text/plain": [
       "(array([300.,   0., 600.,   0.,   0.,   0.,   0.,   0.,   0., 100.]),\n",
       " array([  8.02250567,  27.35672356,  46.69094146,  66.02515935,\n",
       "         85.35937725, 104.69359514, 124.02781303, 143.36203093,\n",
       "        162.69624882, 182.03046672, 201.36468461]),\n",
       " <BarContainer object of 10 artists>)"
      ]
     },
     "execution_count": 184,
     "metadata": {},
     "output_type": "execute_result"
    },
    {
     "data": {
      "image/png": "[encoded data removed]",
      "text/plain": [
       "<Figure size 432x288 with 1 Axes>"
      ]
     },
     "metadata": {
      "needs_background": "light"
     },
     "output_type": "display_data"
    }
   ],
   "source": [
    "plt.hist(np.mean(Y1, axis = 1))"
   ]
  },
  {
   "cell_type": "code",
   "execution_count": 183,
   "id": "773e2d3b",
   "metadata": {},
   "outputs": [
    {
     "data": {
      "text/plain": [
       "(array([800.,   0., 100.,   0.,   0.,   0.,   0.,   0.,   0., 100.]),\n",
       " array([  7.71330489,  27.14431141,  46.57531794,  66.00632446,\n",
       "         85.43733099, 104.86833751, 124.29934404, 143.73035056,\n",
       "        163.16135709, 182.59236361, 202.02337014]),\n",
       " <BarContainer object of 10 artists>)"
      ]
     },
     "execution_count": 183,
     "metadata": {},
     "output_type": "execute_result"
    },
    {
     "data": {
      "image/png": "[encoded data removed]",
      "text/plain": [
       "<Figure size 432x288 with 1 Axes>"
      ]
     },
     "metadata": {
      "needs_background": "light"
     },
     "output_type": "display_data"
    }
   ],
   "source": [
    "plt.hist(np.mean(Y2, axis = 1))"
   ]
  },
  {
   "cell_type": "code",
   "execution_count": 9,
   "id": "7a215650",
   "metadata": {},
   "outputs": [
    {
     "data": {
      "text/plain": [
       "(array([100.,   0.,   0., 117.,  83.,   0.,   0.,   0.,   0., 700.]),\n",
       " array([-52.03964247, -26.50437091,  -0.96909935,  24.56617221,\n",
       "         50.10144378,  75.63671534, 101.1719869 , 126.70725847,\n",
       "        152.24253003, 177.77780159, 203.31307315]),\n",
       " <BarContainer object of 10 artists>)"
      ]
     },
     "execution_count": 9,
     "metadata": {},
     "output_type": "execute_result"
    },
    {
     "data": {
      "image/png": "[encoded data removed]",
      "text/plain": [
       "<Figure size 432x288 with 1 Axes>"
      ]
     },
     "metadata": {
      "needs_background": "light"
     },
     "output_type": "display_data"
    }
   ],
   "source": [
    "plt.hist(np.mean(Y3, axis = 1))"
   ]
  },
  {
   "cell_type": "code",
   "execution_count": 204,
   "id": "1c3ad50a",
   "metadata": {
    "scrolled": true
   },
   "outputs": [
    {
     "data": {
      "text/plain": [
       "(array([600.,   0., 200.,   0.,   0.,   0.,   0.,   0.,   0., 200.]),\n",
       " array([-52.34625048, -26.89203945,  -1.43782842,  24.01638262,\n",
       "         49.47059365,  74.92480468, 100.37901572, 125.83322675,\n",
       "        151.28743778, 176.74164881, 202.19585985]),\n",
       " <BarContainer object of 10 artists>)"
      ]
     },
     "execution_count": 204,
     "metadata": {},
     "output_type": "execute_result"
    },
    {
     "data": {
      "image/png": "[encoded data removed]",
      "text/plain": [
       "<Figure size 432x288 with 1 Axes>"
      ]
     },
     "metadata": {
      "needs_background": "light"
     },
     "output_type": "display_data"
    }
   ],
   "source": [
    "plt.hist(np.mean(Y4, axis = 1))"
   ]
  }
 ],
 "metadata": {
  "kernelspec": {
   "display_name": "Python 3 (ipykernel)",
   "language": "python",
   "name": "python3"
  },
  "language_info": {
   "codemirror_mode": {
    "name": "ipython",
    "version": 3
   },
   "file_extension": ".py",
   "mimetype": "text/x-python",
   "name": "python",
   "nbconvert_exporter": "python",
   "pygments_lexer": "ipython3",
   "version": "3.9.6"
  }
 },
 "nbformat": 4,
 "nbformat_minor": 5
}
