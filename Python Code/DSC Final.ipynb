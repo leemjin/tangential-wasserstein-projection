{
 "cells": [
  {
   "cell_type": "code",
   "execution_count": 1,
   "id": "06568c41",
   "metadata": {},
   "outputs": [],
   "source": [
    "import numpy as np\n",
    "from numpy import random\n",
    "\n",
    "import pandas as pd\n",
    "import matplotlib.pylab as plt\n",
    "import ot\n",
    "import ot.plot\n",
    "import cvxpy as cp\n",
    "\n",
    "import scipy.stats as stats\n",
    "import seaborn as sns\n",
    "import scipy.special as sps\n",
    "import time as t"
   ]
  },
  {
   "cell_type": "markdown",
   "id": "b3d2faf8",
   "metadata": {},
   "source": [
    "# STEPS\n",
    "1. [Setup](#Setup)\n",
    "2. [Barycentric Projection](#(1)-Barycentric-Projection)\n",
    "3. [Get Optimal Weights](#(2)-Optimal-Weights)\n",
    "4. [Complete Function](#Complete-Function)\n",
    "5. [Utils](#Utils)\n",
    "6. [Examples](#Examples)\n",
    "7. [To-do](#TO-DO)"
   ]
  },
  {
   "cell_type": "markdown",
   "id": "325468ee",
   "metadata": {},
   "source": [
    "## Setup"
   ]
  },
  {
   "cell_type": "code",
   "execution_count": 2,
   "id": "09fe33b7",
   "metadata": {},
   "outputs": [],
   "source": [
    "n1 = n2 = 100\n",
    "dim = 3\n",
    "\n",
    "covmat = np.zeros((dim, dim))\n",
    "np.fill_diagonal(covmat, 1)\n",
    "\n",
    "covmat2 = np.full((dim, dim), 0.3)\n",
    "np.fill_diagonal(covmat2, 1)\n",
    "\n",
    "covmat3 = np.full((dim, dim), 0.5)\n",
    "np.fill_diagonal(covmat3, 1)\n",
    "\n",
    "covmat4 = np.full((dim, dim), 0.8)\n",
    "np.fill_diagonal(covmat4, 1)\n",
    "\n",
    "a_ones, b_ones = np.ones((n1,)) / n1, np.ones((n2,)) / n2\n",
    "\n",
    "control1 = random.multivariate_normal(mean = [20, 20, 20], cov = covmat4, size = n1)\n",
    "control2 = random.multivariate_normal(mean = [100, 100, 100], cov = covmat4, size = n1)\n",
    "control3 = random.multivariate_normal(mean = [50, 50, 50], cov = covmat3, size = n1)\n",
    "controls = [control1, control2, control3]\n",
    "\n",
    "TARGET = random.multivariate_normal(mean = [25]*dim, cov = covmat, size = n1)"
   ]
  },
  {
   "cell_type": "markdown",
   "id": "30b38653",
   "metadata": {},
   "source": [
    "## Functions"
   ]
  },
  {
   "cell_type": "markdown",
   "id": "452385f3",
   "metadata": {},
   "source": [
    "### (1) Barycentric Projection\n",
    "`baryc_proj` calculates the conditional expectation of each column of the transport plan and outputs the transport map. \n",
    "<br>\n",
    "\n",
    "NOTE: we may consider keeping the distance matrix calculation outside of this function for convenience"
   ]
  },
  {
   "cell_type": "code",
   "execution_count": 3,
   "id": "532c1063",
   "metadata": {},
   "outputs": [],
   "source": [
    "def baryc_proj(source, target):\n",
    "    \n",
    "    n1 = source.shape[0]\n",
    "    n2 = target.shape[0]   \n",
    "    p = source.shape[1]\n",
    "    a_ones, b_ones = np.ones((n1,)) / n1, np.ones((n2,)) / n2\n",
    "    \n",
    "    M = ot.dist(source, target)\n",
    "    M = M.astype('float64')\n",
    "    M /= M.max()\n",
    "    OTplan = ot.bregman.sinkhorn_stabilized(a_ones, b_ones, M, reg = 5*1e-3)# try emd\n",
    "    \n",
    "    # initialization\n",
    "    OTmap = np.empty((0, p))\n",
    "\n",
    "    for i in range(n1):\n",
    "        \n",
    "        # normalization\n",
    "        OTplan[i,:] = OTplan[i,:] / sum(OTplan[i,:])\n",
    "    \n",
    "        # conditional expectation\n",
    "        OTmap = np.vstack([OTmap, (target.T @ OTplan[i,:])])\n",
    "    \n",
    "    OTmap = np.array(OTmap)\n",
    "    \n",
    "    return(OTmap)"
   ]
  },
  {
   "cell_type": "markdown",
   "id": "1185d27b",
   "metadata": {},
   "source": [
    "### (2) Optimal Weights\n",
    "`to_optimize` defines the function that we want to minimize; it is for use within optimization with CVXPY. Refer to (2.7) in DSC<br>\n",
    "`get_optimal_weights` defines the actual optimization with CVXPY"
   ]
  },
  {
   "cell_type": "code",
   "execution_count": 26,
   "id": "df5d4db8",
   "metadata": {},
   "outputs": [],
   "source": [
    "def to_optimize(lambdas):\n",
    "    \n",
    "    ans = []\n",
    "    for i in range(J):\n",
    "        temp = lambdas[i] * (G_list[i] - globtarget)\n",
    "        ans.append(sum(sum(temp**2)))\n",
    "    \n",
    "    return sum(ans) / n"
   ]
  },
  {
   "cell_type": "code",
   "execution_count": 6,
   "id": "3057f311",
   "metadata": {},
   "outputs": [],
   "source": [
    "def get_optimal_weights(Glist):\n",
    "        \n",
    "    mylambda = cp.Variable(J)\n",
    "\n",
    "    objective = cp.Minimize(to_optimize(mylambda))\n",
    "    constraints = [mylambda >= 0, mylambda <= 1, cp.sum(mylambda) == 1]\n",
    "\n",
    "    prob = cp.Problem(objective, constraints)\n",
    "    prob.solve()\n",
    "\n",
    "    weights = mylambda.value\n",
    "    \n",
    "    return(weights)"
   ]
  },
  {
   "cell_type": "markdown",
   "id": "92fdd628",
   "metadata": {},
   "source": [
    "# Complete Function\n",
    "The complete function takes in the target and controls and outputs the optimal weights and actual projection. It requires the globalization of variables n, d, J and G_list, which are useful outside of the function as well."
   ]
  },
  {
   "cell_type": "code",
   "execution_count": 27,
   "id": "643222a8",
   "metadata": {},
   "outputs": [],
   "source": [
    "def DSCreplication(target, controls):\n",
    "    \n",
    "    global n, d, J, globtarget\n",
    "    n = target.shape[0]\n",
    "    d = target.shape[1]\n",
    "    J = len(controls)\n",
    "    globtarget = target\n",
    "\n",
    "    # Barycentric Projection\n",
    "    global G_list\n",
    "    G_list = []\n",
    "    for i in range(len(controls)):\n",
    "        G_list.append(baryc_proj(target, controls[i]))\n",
    "    \n",
    "    \n",
    "    # Obtain optimal weights(to_optimze needs to be pre-defined)\n",
    "    weights = get_optimal_weights(G_list)\n",
    "    projection = weights[0]*G_list[0]\n",
    "    for j in range(J-1):\n",
    "        projection += weights[j+1]*G_list[j+1]\n",
    "    \n",
    "    \n",
    "    return(weights, projection)\n",
    "    "
   ]
  },
  {
   "cell_type": "markdown",
   "id": "bae550e8",
   "metadata": {},
   "source": [
    "## Alternative Function\n",
    "\n",
    "This different version does not require the globalization of variables. Also, only `get_condE` needs to be defined prior to this function. However, having key variables(i.e. individual transport maps, distance matrices) be only local may be incovenient when user wishes to observe or use them."
   ]
  },
  {
   "cell_type": "markdown",
   "id": "66c2cf84",
   "metadata": {},
   "source": [
    "We may expect slightly improved efficiency due to the fact that this version calls one less function; however how efficient it will actually be is yet to be tested in higher dimensions - larger samples."
   ]
  },
  {
   "cell_type": "code",
   "execution_count": 4,
   "id": "acacf3f6",
   "metadata": {},
   "outputs": [],
   "source": [
    "def DSCreplicationV2(target, controls):\n",
    "    \n",
    "    n = target.shape[0]\n",
    "    d = target.shape[1]\n",
    "    J = len(controls)\n",
    "    \n",
    "    \n",
    "    # Barycentric Projection\n",
    "    G_list = []\n",
    "    for i in range(len(controls)):\n",
    "        G_list.append(baryc_proj(target, controls[i]))\n",
    "    \n",
    "    \n",
    "    # Function to optimize\n",
    "    def to_optimize(lambdas):\n",
    "                \n",
    "        ans = []\n",
    "        for i in range(J):\n",
    "            temp = lambdas[i] * (G_list[i] - target)\n",
    "            ans.append(sum(sum(temp**2)))\n",
    "    \n",
    "        return sum(ans) / n\n",
    "\n",
    "    \n",
    "    # Obtain optimal weights\n",
    "    mylambda = cp.Variable(J)\n",
    "\n",
    "    objective = cp.Minimize(to_optimize(mylambda))\n",
    "    constraints = [mylambda >= 0, mylambda <= 1, cp.sum(mylambda) == 1]\n",
    "\n",
    "    prob = cp.Problem(objective, constraints)\n",
    "    prob.solve()\n",
    "\n",
    "    \n",
    "    weights = mylambda.value\n",
    "    projection = weights[0]*G_list[0]\n",
    "    for j in range(J-1):\n",
    "        projection += weights[j+1]*G_list[j+1]\n",
    "    \n",
    "    \n",
    "    return(weights, projection)"
   ]
  },
  {
   "cell_type": "code",
   "execution_count": 29,
   "id": "a5f53dd7",
   "metadata": {},
   "outputs": [
    {
     "name": "stdout",
     "output_type": "stream",
     "text": [
      "1.5224380493164062\n",
      "[0.95374921 0.00461123 0.04163956]\n"
     ]
    }
   ],
   "source": [
    "ts = t.time()\n",
    "\n",
    "weights1, projection1 = DSCreplication(TARGET, controls)\n",
    "\n",
    "print(t.time() - ts)\n",
    "print(weights1)"
   ]
  },
  {
   "cell_type": "code",
   "execution_count": 9,
   "id": "a33cf02a",
   "metadata": {},
   "outputs": [
    {
     "name": "stdout",
     "output_type": "stream",
     "text": [
      "1.531881332397461\n",
      "[0.95374921 0.00461123 0.04163956]\n"
     ]
    }
   ],
   "source": [
    "ts = t.time()\n",
    "\n",
    "weights2, projection2 = DSCreplicationV2(TARGET, controls)\n",
    "\n",
    "print(t.time() - ts)\n",
    "print(weights2)"
   ]
  },
  {
   "cell_type": "markdown",
   "id": "51988a34",
   "metadata": {},
   "source": [
    "## Utils"
   ]
  },
  {
   "cell_type": "code",
   "execution_count": 10,
   "id": "2a306d81",
   "metadata": {},
   "outputs": [],
   "source": [
    "def mixed_multi_gauss(mean1, mean2, mean3, cov1, cov2, cov3, samplesize, partition1, partition2):\n",
    "    \n",
    "    size1 = int(samplesize * partition1)\n",
    "    size2 = int(samplesize * partition2)\n",
    "    size3 = int(samplesize - size1 - size2)\n",
    "    \n",
    "    gauss1 = random.multivariate_normal(mean = mean1, cov = cov1, size = size1)\n",
    "    gauss2 = random.multivariate_normal(mean = mean2, cov = cov2, size = size2)\n",
    "    gauss3 = random.multivariate_normal(mean = mean3, cov = cov3, size = size3)\n",
    "\n",
    "    \n",
    "    mixed = np.concatenate((gauss1, gauss2, gauss3), axis = 0)\n",
    "    np.random.shuffle(mixed)\n",
    "    \n",
    "    return(mixed)\n",
    "\n",
    "# set seed"
   ]
  },
  {
   "cell_type": "markdown",
   "id": "6ec0b431",
   "metadata": {},
   "source": [
    "# Examples"
   ]
  },
  {
   "cell_type": "markdown",
   "id": "d7edf4f3",
   "metadata": {},
   "source": [
    "## (1)"
   ]
  },
  {
   "cell_type": "code",
   "execution_count": 83,
   "id": "8a555056",
   "metadata": {},
   "outputs": [],
   "source": [
    "n1 = n2 = 100\n",
    "dim = 2\n",
    "\n",
    "covmat = np.zeros((dim, dim))\n",
    "np.fill_diagonal(covmat, 1)\n",
    "\n",
    "covmat2 = np.full((dim, dim), 0.3)\n",
    "np.fill_diagonal(covmat2, 1)\n",
    "\n",
    "covmat3 = np.full((dim, dim), 0.5)\n",
    "np.fill_diagonal(covmat3, 1)\n",
    "\n",
    "covmat4 = np.full((dim, dim), 0.8)\n",
    "np.fill_diagonal(covmat4, 1)\n",
    "\n",
    "a_ones, b_ones = np.ones((n1,)) / n1, np.ones((n2,)) / n2\n",
    "\n",
    "control11 = random.multivariate_normal(mean = [-100, -100], cov = covmat4, size = n1)\n",
    "control12 = random.multivariate_normal(mean = [20, 20], cov = covmat4, size = n1)\n",
    "control13 = random.multivariate_normal(mean = [200]*dim, cov = covmat3, size = n1)\n",
    "controls1 = [control11, control12, control13]\n",
    "\n",
    "TARGET1 = random.multivariate_normal(mean = [0]*dim, cov = covmat, size = n1)\n",
    "\n",
    "\n",
    "a_ones, b_ones = np.ones((n1,)) / n1, np.ones((n2,)) / n2"
   ]
  },
  {
   "cell_type": "code",
   "execution_count": 84,
   "id": "9d6c9670",
   "metadata": {
    "scrolled": true
   },
   "outputs": [
    {
     "data": {
      "text/plain": [
       "array([0.03847502, 0.95194419, 0.00958079])"
      ]
     },
     "execution_count": 84,
     "metadata": {},
     "output_type": "execute_result"
    }
   ],
   "source": [
    "weights1, projection1 = DSCreplication(TARGET1, controls1)\n",
    "weights1"
   ]
  },
  {
   "cell_type": "markdown",
   "id": "0bc9367c",
   "metadata": {},
   "source": [
    "## (2)"
   ]
  },
  {
   "cell_type": "code",
   "execution_count": 87,
   "id": "0b998b33",
   "metadata": {},
   "outputs": [],
   "source": [
    "control21 = mixed_multi_gauss([10,10], [20,20], [30,30], covmat3, covmat3, covmat3, 100, 0.8, 0.1)\n",
    "control22 = mixed_multi_gauss([10,10], [100,100], [1000, 1000], covmat3, covmat3, covmat3, 100, 0.1, 0.8)\n",
    "control23 = mixed_multi_gauss([80,80], [90,90], [100, 100], covmat3, covmat3, covmat3, 100, 0.3, 0.5)\n",
    "controls2 = [control21, control22, control23]\n",
    "\n",
    "TARGET2 = random.multivariate_normal(mean = [50]*dim, cov = covmat, size = 100)"
   ]
  },
  {
   "cell_type": "code",
   "execution_count": 88,
   "id": "c3c399f6",
   "metadata": {
    "scrolled": true
   },
   "outputs": [
    {
     "data": {
      "text/plain": [
       "array([0.50591552, 0.03934929, 0.45473519])"
      ]
     },
     "execution_count": 88,
     "metadata": {},
     "output_type": "execute_result"
    }
   ],
   "source": [
    "weights2, projection2 = DSCreplicationV2(TARGET2, controls2)\n",
    "weights2"
   ]
  },
  {
   "cell_type": "markdown",
   "id": "5209fb4d",
   "metadata": {},
   "source": [
    "## (3)"
   ]
  },
  {
   "cell_type": "code",
   "execution_count": 122,
   "id": "4bf28cbd",
   "metadata": {},
   "outputs": [],
   "source": [
    "from sklearn.datasets import make_swiss_roll\n",
    "\n",
    "roll, _ =  make_swiss_roll(n_samples=n1, noise=0, random_state=1)\n",
    "roll2, _ =  make_swiss_roll(n_samples=n1, noise=0, random_state=10)\n",
    "#roll3, _ =  make_swiss_roll(n_samples=n1, noise=0, random_state=100)\n",
    "#roll4, _ =  make_swiss_roll(n_samples=n1, noise=1, random_state=1000)\n",
    "\n",
    "\n",
    "controls3 = [roll, roll2]#, roll3]#, roll4]\n",
    "\n",
    "TARGET3, _ = make_swiss_roll(n_samples=n1, noise=0, random_state=20)"
   ]
  },
  {
   "cell_type": "code",
   "execution_count": 123,
   "id": "96934ca5",
   "metadata": {
    "scrolled": true
   },
   "outputs": [
    {
     "data": {
      "text/plain": [
       "array([0.55545838, 0.44454162])"
      ]
     },
     "execution_count": 123,
     "metadata": {},
     "output_type": "execute_result"
    }
   ],
   "source": [
    "weights3, projection3 = DSCreplicationV2(TARGET3, controls3)\n",
    "weights3"
   ]
  },
  {
   "cell_type": "code",
   "execution_count": 124,
   "id": "77efb17e",
   "metadata": {
    "scrolled": true
   },
   "outputs": [
    {
     "data": {
      "text/plain": [
       "array([[-6.87643051, 14.46305341, -6.63373878],\n",
       "       [ 9.1336493 ,  7.60676704,  8.8864559 ],\n",
       "       [10.38719344,  6.27695231,  7.46117717],\n",
       "       [11.56975586,  3.30092298, -2.85642938],\n",
       "       [ 2.8488589 ,  3.42677572, -4.19481285]])"
      ]
     },
     "execution_count": 124,
     "metadata": {},
     "output_type": "execute_result"
    }
   ],
   "source": [
    "projection3[0:5,:]"
   ]
  },
  {
   "cell_type": "code",
   "execution_count": 125,
   "id": "4ef8db9b",
   "metadata": {
    "scrolled": false
   },
   "outputs": [
    {
     "data": {
      "text/plain": [
       "array([[-6.91647283, 17.33475978, -7.57201771],\n",
       "       [10.82165112,  8.0934958 ,  7.51155942],\n",
       "       [11.19103343,  7.44126521,  6.8381677 ],\n",
       "       [12.23325833,  8.98964897, -2.03568147],\n",
       "       [ 1.67599469,  8.29636881, -4.76445273]])"
      ]
     },
     "execution_count": 125,
     "metadata": {},
     "output_type": "execute_result"
    }
   ],
   "source": [
    "TARGET3[0:5,:]"
   ]
  },
  {
   "cell_type": "code",
   "execution_count": 126,
   "id": "88fd266e",
   "metadata": {
    "scrolled": true
   },
   "outputs": [
    {
     "data": {
      "image/png": "[encoded data removed]",
      "text/plain": [
       "<Figure size 432x288 with 1 Axes>"
      ]
     },
     "metadata": {
      "needs_background": "light"
     },
     "output_type": "display_data"
    }
   ],
   "source": [
    "plt.scatter(projection3[:,0], projection3[:,2])\n",
    "plt.xlim(-25, 25)\n",
    "plt.ylim(-25, 25)\n",
    "plt.savefig('roll_replication')"
   ]
  },
  {
   "cell_type": "code",
   "execution_count": 127,
   "id": "f98a55dc",
   "metadata": {},
   "outputs": [
    {
     "data": {
      "image/png": "[encoded data removed]",
      "text/plain": [
       "<Figure size 432x288 with 1 Axes>"
      ]
     },
     "metadata": {
      "needs_background": "light"
     },
     "output_type": "display_data"
    }
   ],
   "source": [
    "plt.scatter(TARGET3[:,0], TARGET3[:,2])\n",
    "plt.xlim(-25, 25)\n",
    "plt.ylim(-25, 25)\n",
    "plt.savefig('roll_original')"
   ]
  },
  {
   "cell_type": "markdown",
   "id": "d309562e",
   "metadata": {},
   "source": [
    "NOTE: try increasing the number of controls: the current setup has too few controls that are very different from each other. The weight being almost half will cause the projection to be off."
   ]
  },
  {
   "cell_type": "markdown",
   "id": "f48744c3",
   "metadata": {},
   "source": [
    "## (4) Binary Data"
   ]
  },
  {
   "cell_type": "code",
   "execution_count": 30,
   "id": "59bef0d0",
   "metadata": {},
   "outputs": [],
   "source": [
    "bin1 = np.column_stack((np.random.randint(2, size = 100), \n",
    "                        np.random.randint(2, size = 100), \n",
    "                        np.random.randint(2, size = 100)))\n",
    "bin2 = np.column_stack((np.random.randint(2, size = 100), \n",
    "                        np.random.randint(2, size = 100),\n",
    "                        np.random.randint(2, size = 100)))\n",
    "bin3 = np.column_stack((np.random.randint(2, size = 100), \n",
    "                        np.random.randint(2, size = 100),\n",
    "                        np.random.randint(2, size = 100)))\n",
    "controls4 = [bin1, bin2, bin3]\n",
    "\n",
    "TARGET4 = np.column_stack((np.random.randint(2, size = 100), \n",
    "                           np.random.randint(2, size = 100),\n",
    "                           np.random.randint(2, size = 100)))"
   ]
  },
  {
   "cell_type": "code",
   "execution_count": 31,
   "id": "6278f977",
   "metadata": {},
   "outputs": [
    {
     "name": "stderr",
     "output_type": "stream",
     "text": [
      "/Users/pablomjlee/miniforge3/lib/python3.9/site-packages/ot/bregman.py:1112: UserWarning: Sinkhorn did not converge. You might want to increase the number of iterations `numItermax` or the regularization parameter `reg`.\n",
      "  warnings.warn(\"Sinkhorn did not converge. You might want to \"\n"
     ]
    }
   ],
   "source": [
    "weights4, projection4 = DSCreplicationV2(TARGET4, controls4)\n",
    "projection4rnd = projection4.round(decimals = 0).astype('int64')"
   ]
  },
  {
   "cell_type": "code",
   "execution_count": 32,
   "id": "445bfa3d",
   "metadata": {},
   "outputs": [
    {
     "data": {
      "text/plain": [
       "array([[0, 0, 1],\n",
       "       [1, 1, 1],\n",
       "       [1, 1, 1],\n",
       "       [0, 0, 1],\n",
       "       [1, 1, 1]])"
      ]
     },
     "execution_count": 32,
     "metadata": {},
     "output_type": "execute_result"
    }
   ],
   "source": [
    "projection4rnd[0:5,:]"
   ]
  },
  {
   "cell_type": "code",
   "execution_count": 33,
   "id": "50eae1bf",
   "metadata": {
    "scrolled": true
   },
   "outputs": [
    {
     "data": {
      "text/plain": [
       "array([[0, 0, 1],\n",
       "       [1, 1, 1],\n",
       "       [1, 1, 1],\n",
       "       [0, 0, 1],\n",
       "       [1, 1, 1]])"
      ]
     },
     "execution_count": 33,
     "metadata": {},
     "output_type": "execute_result"
    }
   ],
   "source": [
    "TARGET4[0:5,:]"
   ]
  },
  {
   "cell_type": "code",
   "execution_count": 35,
   "id": "c3983ba2",
   "metadata": {},
   "outputs": [],
   "source": [
    "#projection4rnd == TARGET4"
   ]
  },
  {
   "cell_type": "markdown",
   "id": "b2d2776d",
   "metadata": {},
   "source": [
    "Q: At what point do we want to round?<br>\n",
    "Q: how to implement this for data mixed between binary and continuous<br>\n",
    "Q: convergence issues: might be fine for 100+ samples"
   ]
  },
  {
   "cell_type": "markdown",
   "id": "b2240632",
   "metadata": {},
   "source": [
    "# TO DO"
   ]
  },
  {
   "cell_type": "markdown",
   "id": "fe28465c",
   "metadata": {},
   "source": [
    "* Finalize naming of variables and functions\n",
    "* Test for histograms and for different sizes of controls -- if needed, generalize\n",
    "* Testing with real-life data(Medicaid, Image data)"
   ]
  },
  {
   "cell_type": "markdown",
   "id": "a06a01d1",
   "metadata": {},
   "source": [
    "# Questions\n",
    "* mixed gaussian example in paper: make obvious like one here, or make it more realistic? -- plottable"
   ]
  }
 ],
 "metadata": {
  "kernelspec": {
   "display_name": "Python 3 (ipykernel)",
   "language": "python",
   "name": "python3"
  },
  "language_info": {
   "codemirror_mode": {
    "name": "ipython",
    "version": 3
   },
   "file_extension": ".py",
   "mimetype": "text/x-python",
   "name": "python",
   "nbconvert_exporter": "python",
   "pygments_lexer": "ipython3",
   "version": "3.9.6"
  }
 },
 "nbformat": 4,
 "nbformat_minor": 5
}
