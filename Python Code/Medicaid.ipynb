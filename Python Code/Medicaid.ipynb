{
 "cells": [
  {
   "cell_type": "code",
   "execution_count": 1,
   "id": "06568c41",
   "metadata": {},
   "outputs": [],
   "source": [
    "import numpy as np\n",
    "import pandas as pd\n",
    "import matplotlib.pylab as plt\n",
    "import ot\n",
    "import cvxpy as cp\n",
    "import seaborn as sns\n",
    "import twp_utils as twp\n",
    "\n",
    "# Supplementary Packages\n",
    "#import scipy.stats as stats\n",
    "#import scipy.special as sps\n",
    "#import time as t"
   ]
  },
  {
   "cell_type": "markdown",
   "id": "df2ed796",
   "metadata": {},
   "source": [
    "## Medicare Data"
   ]
  },
  {
   "cell_type": "code",
   "execution_count": 2,
   "id": "2eedd72a",
   "metadata": {},
   "outputs": [],
   "source": [
    "def read_medicaid(file_name, columns, sample = True):\n",
    "    \n",
    "    df = pd.read_csv(file_name)[columns]\n",
    "    \n",
    "    if sample:\n",
    "        df = df.sample(1500, random_state = 31)\n",
    "    \n",
    "    return(np.array(df))"
   ]
  },
  {
   "cell_type": "code",
   "execution_count": 3,
   "id": "483622b7",
   "metadata": {},
   "outputs": [],
   "source": [
    "import os, glob\n",
    "medidata = []\n",
    "\n",
    "columns1 = ['HINSCAID','EMPSTAT','UHRSWORK','INCWAGE']\n",
    "for file in sorted(glob.glob(\"workingData/medicaid/*.csv\")):\n",
    "    medidata.append(read_medicaid(file, columns1))\n",
    "\n",
    "medidata.insert(0, medidata.pop(5)) # Move Montana to front of list\n",
    "medi_target = medidata[0]\n",
    "medi_controls = medidata[1:]\n",
    "\n",
    "\n",
    "#for counterfactual exercise\n",
    "mt_years = read_medicaid(\"workingData/medicaid/MT.csv\", ['YEAR'])"
   ]
  },
  {
   "cell_type": "markdown",
   "id": "62836076",
   "metadata": {},
   "source": [
    "### Test Run"
   ]
  },
  {
   "cell_type": "code",
   "execution_count": 4,
   "id": "20d84b91",
   "metadata": {
    "scrolled": true
   },
   "outputs": [],
   "source": [
    "medi_weights, medi_projection = twp.tan_wass_proj(medi_target, medi_controls)\n",
    "\n",
    "# round integer columns\n",
    "medi_projection[:,0:2] = medi_projection[:,0:2].round(decimals = 0).astype('int32')"
   ]
  },
  {
   "cell_type": "code",
   "execution_count": 5,
   "id": "26fa06ed",
   "metadata": {
    "scrolled": false
   },
   "outputs": [
    {
     "data": {
      "text/plain": [
       "array([[ 1.        ,  1.        ,  2.72129543,  8.20193435],\n",
       "       [ 1.        ,  1.        ,  4.98086314, 13.38312636],\n",
       "       [ 1.        ,  1.        ,  4.61313836, 11.5696838 ],\n",
       "       [ 1.        ,  1.        ,  3.60549785, 10.12021054],\n",
       "       [ 1.        ,  1.        ,  3.85439389, 10.87993221]])"
      ]
     },
     "execution_count": 5,
     "metadata": {},
     "output_type": "execute_result"
    }
   ],
   "source": [
    "medi_target[0:5,:]"
   ]
  },
  {
   "cell_type": "code",
   "execution_count": 6,
   "id": "49abfd9d",
   "metadata": {
    "scrolled": true
   },
   "outputs": [
    {
     "data": {
      "text/plain": [
       "array([[ 1.       ,  1.       ,  2.7301803,  8.302936 ],\n",
       "       [ 1.       ,  1.       ,  4.7296977, 13.066231 ],\n",
       "       [ 1.       ,  1.       ,  4.606846 , 11.638502 ],\n",
       "       [ 1.       ,  1.       ,  3.6360972, 10.214581 ],\n",
       "       [ 1.       ,  1.       ,  3.9365299, 10.964109 ]], dtype=float32)"
      ]
     },
     "execution_count": 6,
     "metadata": {},
     "output_type": "execute_result"
    }
   ],
   "source": [
    "medi_projection[0:5,:]"
   ]
  },
  {
   "cell_type": "code",
   "execution_count": 7,
   "id": "be4c55fa",
   "metadata": {
    "scrolled": true
   },
   "outputs": [
    {
     "data": {
      "text/plain": [
       "array([ 1.83542468e-01, -7.41751449e-17, -7.62265727e-16, -2.64926653e-16,\n",
       "        1.74431644e-01, -6.45043538e-16,  9.87702002e-03,  5.13099887e-01,\n",
       "       -1.39495870e-17,  7.41989330e-17,  1.19048981e-01, -3.96550954e-16])"
      ]
     },
     "execution_count": 7,
     "metadata": {},
     "output_type": "execute_result"
    }
   ],
   "source": [
    "medi_weights"
   ]
  },
  {
   "cell_type": "markdown",
   "id": "3d832c20",
   "metadata": {},
   "source": [
    "## RESULTS"
   ]
  },
  {
   "cell_type": "markdown",
   "id": "44e3f366",
   "metadata": {},
   "source": [
    "### HINSCAID"
   ]
  },
  {
   "cell_type": "code",
   "execution_count": 8,
   "id": "4e1687bd",
   "metadata": {},
   "outputs": [
    {
     "data": {
      "image/png": "[encoded data removed]",
      "text/plain": [
       "<Figure size 576x288 with 2 Axes>"
      ]
     },
     "metadata": {
      "needs_background": "light"
     },
     "output_type": "display_data"
    }
   ],
   "source": [
    "fig5, axes5 = plt.subplots(1,2, figsize = (8,4), sharex = True, sharey = True)\n",
    "\n",
    "dict_map = {1:'Uninsured' , 2: 'Insured'}\n",
    "reptemp = pd.DataFrame(medi_projection[:,0])\n",
    "reptemp[0] = reptemp[0].map(dict_map)\n",
    "\n",
    "targtemp = pd.DataFrame(medi_target[:,0])\n",
    "targtemp[0] = targtemp[0].map(dict_map)\n",
    "\n",
    "sns.histplot(reptemp, x = 0, ax = axes5[0], discrete = True, stat = 'density', color = 'royalblue')\n",
    "sns.histplot(targtemp, x = 0, ax = axes5[1], discrete = True, stat = 'density', color = 'darkorange')\n",
    "axes5[0].set(xlabel = None, ylabel = None)\n",
    "axes5[1].set(xlabel = None, ylabel = None)\n",
    "fig5.supylabel('Proportion')\n",
    "\n",
    "plt.savefig('hinscaid_pre.png')"
   ]
  },
  {
   "cell_type": "code",
   "execution_count": 9,
   "id": "28a3232c",
   "metadata": {},
   "outputs": [
    {
     "data": {
      "text/plain": [
       "16"
      ]
     },
     "execution_count": 9,
     "metadata": {},
     "output_type": "execute_result"
    }
   ],
   "source": [
    "1500 - sum(medi_target[:,0] == medi_projection[:,0]) ## number of misses"
   ]
  },
  {
   "cell_type": "markdown",
   "id": "51a4efad",
   "metadata": {},
   "source": [
    "### EMPSTAT"
   ]
  },
  {
   "cell_type": "code",
   "execution_count": 10,
   "id": "9c7517a0",
   "metadata": {},
   "outputs": [
    {
     "data": {
      "image/png": "[encoded data removed]",
      "text/plain": [
       "<Figure size 576x288 with 2 Axes>"
      ]
     },
     "metadata": {
      "needs_background": "light"
     },
     "output_type": "display_data"
    }
   ],
   "source": [
    "fig6, axes6 = plt.subplots(1,2, figsize = (8,4), sharex = True, sharey = True)\n",
    "\n",
    "dict_map = {1:'Employed' , 2: 'Unemployed'}\n",
    "reptemp = pd.DataFrame(medi_projection[:,0])\n",
    "reptemp[0] = reptemp[0].map(dict_map)\n",
    "\n",
    "targtemp = pd.DataFrame(medi_target[:,0])\n",
    "targtemp[0] = targtemp[0].map(dict_map)\n",
    "\n",
    "sns.histplot(reptemp, x = 0, ax = axes6[0], discrete = True, stat = 'density', color = 'royalblue')\n",
    "sns.histplot(targtemp, x = 0, ax = axes6[1], discrete = True, stat = 'density', color = 'darkorange')\n",
    "axes6[0].set(xlabel = None, ylabel = None)\n",
    "axes6[1].set(xlabel = None, ylabel = None)\n",
    "fig6.supylabel('Proportion')\n",
    "\n",
    "plt.savefig('empstat_pre.png')"
   ]
  },
  {
   "cell_type": "code",
   "execution_count": 11,
   "id": "ad180027",
   "metadata": {},
   "outputs": [
    {
     "data": {
      "text/plain": [
       "15"
      ]
     },
     "execution_count": 11,
     "metadata": {},
     "output_type": "execute_result"
    }
   ],
   "source": [
    "1500 - sum(medi_target[:,1] == medi_projection[:,1]) ## number of misses"
   ]
  },
  {
   "cell_type": "markdown",
   "id": "bd761145",
   "metadata": {},
   "source": [
    "### UHRSWORK"
   ]
  },
  {
   "cell_type": "code",
   "execution_count": 12,
   "id": "b5115390",
   "metadata": {},
   "outputs": [
    {
     "data": {
      "image/png": "[encoded data removed]",
      "text/plain": [
       "<Figure size 432x288 with 1 Axes>"
      ]
     },
     "metadata": {
      "needs_background": "light"
     },
     "output_type": "display_data"
    }
   ],
   "source": [
    "fig7, axes7 = plt.subplots()\n",
    "sns.histplot(medi_projection[:,2], ax = axes7, bins = 20, color = 'royalblue')\n",
    "sns.histplot(medi_target[:,2], ax = axes7, bins = 20, color = 'darkorange', alpha = 0.6)\n",
    "\n",
    "plt.savefig('uhrswrk_pre.png')"
   ]
  },
  {
   "cell_type": "markdown",
   "id": "6bc9902b",
   "metadata": {},
   "source": [
    "### INCWAGE"
   ]
  },
  {
   "cell_type": "code",
   "execution_count": 13,
   "id": "406fe4ea",
   "metadata": {},
   "outputs": [
    {
     "data": {
      "image/png": "[encoded data removed]",
      "text/plain": [
       "<Figure size 432x288 with 1 Axes>"
      ]
     },
     "metadata": {
      "needs_background": "light"
     },
     "output_type": "display_data"
    }
   ],
   "source": [
    "fig8, axes8 = plt.subplots()\n",
    "sns.histplot(medi_projection[:,3], ax = axes8, bins = 20, color = 'royalblue')\n",
    "sns.histplot(medi_target[:,3], ax = axes8, bins = 20, color = 'darkorange', alpha = 0.6)\n",
    "\n",
    "plt.savefig('incwage_pre.png')"
   ]
  },
  {
   "cell_type": "markdown",
   "id": "68068fec",
   "metadata": {},
   "source": [
    "## Counterfactual Data"
   ]
  },
  {
   "cell_type": "code",
   "execution_count": 14,
   "id": "cf895ddb",
   "metadata": {},
   "outputs": [],
   "source": [
    "def read_medicaid2(file_name, columns, sample = True):\n",
    "    \n",
    "    df = pd.read_csv(file_name)[columns]\n",
    "    \n",
    "    if sample:\n",
    "        df = df.sample(7775, random_state = 31) #7775 is minimum data size\n",
    "    \n",
    "    return(np.array(df)) "
   ]
  },
  {
   "cell_type": "code",
   "execution_count": 15,
   "id": "557c9196",
   "metadata": {},
   "outputs": [],
   "source": [
    "postintv = []\n",
    "import glob\n",
    "\n",
    "# check path\n",
    "for file in sorted(glob.glob(\"workingData/medicaid/Counterfactual/*.csv\")):\n",
    "    postintv.append(read_medicaid2(file, columns1))\n",
    "\n",
    "postintv.insert(0, postintv.pop(5))\n",
    "post_target = postintv[0]\n",
    "post_controls = postintv[1:]\n",
    "\n",
    "mt_years = read_medicaid2(\"workingData/medicaid/Counterfactual/MT_post.csv\", ['YEAR'])"
   ]
  },
  {
   "cell_type": "code",
   "execution_count": 16,
   "id": "8554ea6f",
   "metadata": {},
   "outputs": [],
   "source": [
    "post_projection = sum([a*b for a,b in zip(medi_weights, post_controls)])\n",
    "post_projection[:,0:2] = post_projection[:,0:2].round(decimals = 0).astype('int32')"
   ]
  },
  {
   "cell_type": "markdown",
   "id": "f7cc776f",
   "metadata": {},
   "source": [
    "### HINSCAID"
   ]
  },
  {
   "cell_type": "code",
   "execution_count": 17,
   "id": "a81e6621",
   "metadata": {},
   "outputs": [
    {
     "data": {
      "image/png": "[encoded data removed]",
      "text/plain": [
       "<Figure size 576x288 with 2 Axes>"
      ]
     },
     "metadata": {
      "needs_background": "light"
     },
     "output_type": "display_data"
    }
   ],
   "source": [
    "fig, axes = plt.subplots(1,2, figsize = (8,4), sharex = True, sharey = True)\n",
    "\n",
    "dict_map = {1:'Uninsured' , 2: 'Insured'}\n",
    "reptemp = pd.DataFrame(post_projection[:,0])\n",
    "reptemp[0] = reptemp[0].map(dict_map)\n",
    "\n",
    "targtemp = pd.DataFrame(post_target[:,0])\n",
    "targtemp[0] = targtemp[0].map(dict_map)\n",
    "\n",
    "sns.histplot(reptemp, x = 0, ax = axes[0], discrete = True, stat = 'density', color = 'royalblue')\n",
    "sns.histplot(targtemp, x = 0, ax = axes[1], discrete = True, stat = 'density', color = 'darkorange')\n",
    "axes[0].set(xlabel = None, ylabel = None)\n",
    "axes[1].set(xlabel = None, ylabel = None)\n",
    "\n",
    "fig.supylabel('Proportion')\n",
    "plt.savefig('hinscaid_sep.png')"
   ]
  },
  {
   "cell_type": "markdown",
   "id": "a54ac438",
   "metadata": {},
   "source": [
    "### EMPSTAT"
   ]
  },
  {
   "cell_type": "code",
   "execution_count": 18,
   "id": "80ef4a6e",
   "metadata": {},
   "outputs": [
    {
     "data": {
      "image/png": "[encoded data removed]",
      "text/plain": [
       "<Figure size 576x288 with 2 Axes>"
      ]
     },
     "metadata": {
      "needs_background": "light"
     },
     "output_type": "display_data"
    }
   ],
   "source": [
    "fig2, axes2 = plt.subplots(1,2, figsize = (8,4), sharex = True, sharey = True)\n",
    "\n",
    "dict_map = {1:'Employed' , 2: 'Unemployed'}\n",
    "reptemp = pd.DataFrame(post_projection[:,1])\n",
    "reptemp[0] = reptemp[0].map(dict_map)\n",
    "\n",
    "targtemp = pd.DataFrame(post_target[:,1])\n",
    "targtemp[0] = targtemp[0].map(dict_map)\n",
    "\n",
    "sns.histplot(reptemp, x = 0, ax = axes2[0], discrete = True, stat = 'density', color = 'royalblue')\n",
    "sns.histplot(targtemp, x = 0, ax = axes2[1], discrete = True, stat = 'density', color = 'darkorange')\n",
    "axes2[0].set(xlabel = None, ylabel = None)\n",
    "axes2[1].set(xlabel = None, ylabel = None)\n",
    "\n",
    "fig2.supylabel('Proportion')\n",
    "\n",
    "plt.savefig('empstat_sep.png')"
   ]
  },
  {
   "cell_type": "markdown",
   "id": "d38eb699",
   "metadata": {},
   "source": [
    "### UHRSWORK"
   ]
  },
  {
   "cell_type": "code",
   "execution_count": 19,
   "id": "6b27b5fa",
   "metadata": {
    "scrolled": true
   },
   "outputs": [
    {
     "data": {
      "image/png": "[encoded data removed]",
      "text/plain": [
       "<Figure size 720x360 with 2 Axes>"
      ]
     },
     "metadata": {
      "needs_background": "light"
     },
     "output_type": "display_data"
    }
   ],
   "source": [
    "fig3, axes3 = plt.subplots(1,2, figsize = (10,5))\n",
    "sns.histplot(post_projection[:,3], bins = 10, ax = axes3[0], color = 'royalblue', stat = 'density')\n",
    "sns.kdeplot(post_projection[:,3], cumulative = True, ax = axes3[1], color = 'mediumblue')\n",
    "\n",
    "\n",
    "sns.histplot(post_target[:,3], bins = 20, ax = axes3[0], color = 'darkorange', stat = 'density', alpha = 0.6)\n",
    "sns.kdeplot(post_target[:,3], cumulative = True, ax = axes3[1], color = 'orange')\n",
    "\n",
    "plt.savefig('incwage_superimposed.png')"
   ]
  },
  {
   "cell_type": "markdown",
   "id": "39f4850c",
   "metadata": {},
   "source": [
    "### INCWAGE"
   ]
  },
  {
   "cell_type": "code",
   "execution_count": 20,
   "id": "d785673b",
   "metadata": {
    "scrolled": true
   },
   "outputs": [
    {
     "data": {
      "image/png": "[encoded data removed]",
      "text/plain": [
       "<Figure size 720x360 with 2 Axes>"
      ]
     },
     "metadata": {
      "needs_background": "light"
     },
     "output_type": "display_data"
    }
   ],
   "source": [
    "fig4, axes4 = plt.subplots(1,2, figsize = (10,5))\n",
    "sns.histplot(post_projection[:,2], bins = 10, ax = axes4[0], color = 'royalblue', stat = 'density')\n",
    "sns.kdeplot(post_projection[:,2], cumulative = True, ax = axes4[1], color = 'mediumblue')\n",
    "\n",
    "\n",
    "sns.histplot(post_target[:,2], bins = 20, ax = axes4[0], color = 'darkorange', stat = 'density', alpha = 0.6)\n",
    "sns.kdeplot(post_target[:,2], cumulative = True, ax = axes4[1], color = 'orange')\n",
    "\n",
    "plt.savefig('uhrswork_superimposed.png')"
   ]
  }
 ],
 "metadata": {
  "kernelspec": {
   "display_name": "Python 3 (ipykernel)",
   "language": "python",
   "name": "python3"
  },
  "language_info": {
   "codemirror_mode": {
    "name": "ipython",
    "version": 3
   },
   "file_extension": ".py",
   "mimetype": "text/x-python",
   "name": "python",
   "nbconvert_exporter": "python",
   "pygments_lexer": "ipython3",
   "version": "3.9.6"
  }
 },
 "nbformat": 4,
 "nbformat_minor": 5
}
