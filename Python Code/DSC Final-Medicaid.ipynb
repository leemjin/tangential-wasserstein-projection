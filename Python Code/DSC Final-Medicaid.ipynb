{
 "cells": [
  {
   "cell_type": "code",
   "execution_count": 1,
   "id": "06568c41",
   "metadata": {},
   "outputs": [],
   "source": [
    "import numpy as np\n",
    "import pandas as pd\n",
    "import matplotlib.pylab as plt\n",
    "import ot\n",
    "import cvxpy as cp\n",
    "\n",
    "# Supplementary Packages\n",
    "#import scipy.stats as stats\n",
    "#import seaborn as sns\n",
    "#import scipy.special as sps\n",
    "import time as t"
   ]
  },
  {
   "cell_type": "markdown",
   "id": "30b38653",
   "metadata": {},
   "source": [
    "## Functions"
   ]
  },
  {
   "cell_type": "code",
   "execution_count": 2,
   "id": "532c1063",
   "metadata": {},
   "outputs": [],
   "source": [
    "def baryc_proj(source, target, method):\n",
    "    \n",
    "    n1 = source.shape[0]\n",
    "    n2 = target.shape[0]   \n",
    "    p = source.shape[1]\n",
    "    a_ones, b_ones = np.ones((n1,)) / n1, np.ones((n2,)) / n2\n",
    "    \n",
    "    M = ot.dist(source, target)\n",
    "    M = M.astype('float64')\n",
    "    M /= M.max()\n",
    "    \n",
    "    if method == 'emd':\n",
    "        OTplan = ot.emd(a_ones, b_ones, M, numItermax = 1e7)\n",
    "        \n",
    "    elif method == 'entropic':\n",
    "        OTplan = ot.bregman.sinkhorn_stabilized(a_ones, b_ones, M, reg = 5*1e-3)\n",
    "    \n",
    "    # initialization\n",
    "    OTmap = np.empty((0, p))\n",
    "\n",
    "    for i in range(n1):\n",
    "        \n",
    "        # normalization\n",
    "        OTplan[i,:] = OTplan[i,:] / sum(OTplan[i,:])\n",
    "    \n",
    "        # conditional expectation\n",
    "        OTmap = np.vstack([OTmap, (target.T @ OTplan[i,:])])\n",
    "    \n",
    "    OTmap = np.array(OTmap)\n",
    "    \n",
    "    return(OTmap)"
   ]
  },
  {
   "cell_type": "code",
   "execution_count": 3,
   "id": "acacf3f6",
   "metadata": {},
   "outputs": [],
   "source": [
    "def DSCreplicationV2(target, controls, method = 'emd'):\n",
    "    \n",
    "    n = target.shape[0]\n",
    "    d = target.shape[1]\n",
    "    J = len(controls)\n",
    "    \n",
    "    \n",
    "    # Barycentric Projection\n",
    "    G_list = []\n",
    "    proj_list = []\n",
    "    for i in range(len(controls)):\n",
    "        temp = baryc_proj(target, controls[i], method)\n",
    "        G_list.append(temp)\n",
    "        proj_list.append(temp - target)\n",
    "    \n",
    "    \n",
    "    # Obtain optimal weights\n",
    "    mylambda = cp.Variable(J)\n",
    "\n",
    "    objective = cp.Minimize(\n",
    "                    cp.sum(\n",
    "                    cp.sum(\n",
    "                    cp.sum([a*b for a,b in zip(mylambda, proj_list)])**2))/n\n",
    "                    )\n",
    "    \n",
    "    constraints = [mylambda >= 0, mylambda <= 1, cp.sum(mylambda) == 1]\n",
    "\n",
    "    prob = cp.Problem(objective, constraints)\n",
    "    prob.solve()\n",
    "    \n",
    "    weights = mylambda.value\n",
    "    replication = sum([a*b for a,b in zip(weights, G_list)])\n",
    "    \n",
    "    \n",
    "    return(weights, replication)"
   ]
  },
  {
   "cell_type": "markdown",
   "id": "df2ed796",
   "metadata": {},
   "source": [
    "## Medicare Data"
   ]
  },
  {
   "cell_type": "code",
   "execution_count": 4,
   "id": "2eedd72a",
   "metadata": {},
   "outputs": [],
   "source": [
    "def read_medicaid(file_name, sample = False):\n",
    "    \n",
    "    columns = ['HINSCAID','EMPSTAT','UHRSWORK','INCWAGE']\n",
    "    df = pd.read_csv(file_name)[columns]\n",
    "    \n",
    "    if sample:\n",
    "        df = df.sample(5000, random_state = 31)\n",
    "    \n",
    "    return(np.array(df))"
   ]
  },
  {
   "cell_type": "code",
   "execution_count": 5,
   "id": "fba4dd6f",
   "metadata": {},
   "outputs": [],
   "source": [
    "import os, glob\n",
    "medidata = []\n",
    "\n",
    "# check path\n",
    "for file in glob.glob(\"workingData/medicaid/*.csv\"):\n",
    "    medidata.append(read_medicaid(file, sample = True))\n",
    "\n",
    "medidata.insert(0, medidata.pop(12)) # Move Montana to front of list(why is mt 12?)\n",
    "medi_target = medidata[0]\n",
    "medi_controls = medidata[1:]"
   ]
  },
  {
   "cell_type": "markdown",
   "id": "62836076",
   "metadata": {},
   "source": [
    "### Test Run"
   ]
  },
  {
   "cell_type": "code",
   "execution_count": 6,
   "id": "20d84b91",
   "metadata": {
    "scrolled": true
   },
   "outputs": [],
   "source": [
    "ts = t.time()\n",
    "\n",
    "weightsm, replicationm = DSCreplicationV2(medi_target, medi_controls)\n",
    "\n",
    "te = t.time() - ts\n",
    "# round integer columns\n",
    "replicationm[:,0:2] = replicationm[:,0:2].round(decimals = 0).astype('int64')"
   ]
  },
  {
   "cell_type": "code",
   "execution_count": 7,
   "id": "26fa06ed",
   "metadata": {
    "scrolled": false
   },
   "outputs": [
    {
     "data": {
      "text/plain": [
       "array([[ 1.   ,  1.   , 70.2  ,  7.02 ],\n",
       "       [ 1.   ,  1.   , 12.3  ,  0.697],\n",
       "       [ 1.   ,  1.   , 56.4  , 14.1  ],\n",
       "       [ 1.   ,  1.   , 54.   ,  5.4  ],\n",
       "       [ 1.   ,  1.   , 33.6  ,  0.864]])"
      ]
     },
     "execution_count": 7,
     "metadata": {},
     "output_type": "execute_result"
    }
   ],
   "source": [
    "medi_target[0:5,:]"
   ]
  },
  {
   "cell_type": "code",
   "execution_count": 8,
   "id": "49abfd9d",
   "metadata": {
    "scrolled": true
   },
   "outputs": [
    {
     "data": {
      "text/plain": [
       "array([[ 1.        ,  1.        , 70.75941701,  7.07132472],\n",
       "       [ 1.        ,  1.        , 14.27981611,  0.8826316 ],\n",
       "       [ 1.        ,  1.        , 55.43997101, 15.14927969],\n",
       "       [ 1.        ,  1.        , 53.92582806,  5.73977124],\n",
       "       [ 1.        ,  1.        , 32.37516239,  1.1789566 ]])"
      ]
     },
     "execution_count": 8,
     "metadata": {},
     "output_type": "execute_result"
    }
   ],
   "source": [
    "replicationm[0:5,:]"
   ]
  },
  {
   "cell_type": "code",
   "execution_count": 9,
   "id": "be4c55fa",
   "metadata": {
    "scrolled": true
   },
   "outputs": [
    {
     "data": {
      "text/plain": [
       "array([ 9.10826920e-02,  3.45208078e-21,  3.98834949e-19,  6.09212215e-20,\n",
       "        1.02423417e-01, -3.77387613e-20, -2.16713354e-19,  2.56442217e-02,\n",
       "        1.94299272e-01,  4.04308180e-01,  1.82242216e-01, -1.75489889e-19])"
      ]
     },
     "execution_count": 9,
     "metadata": {},
     "output_type": "execute_result"
    }
   ],
   "source": [
    "weightsm"
   ]
  },
  {
   "cell_type": "code",
   "execution_count": 10,
   "id": "97aabf49",
   "metadata": {},
   "outputs": [
    {
     "data": {
      "text/plain": [
       "44708.70397729079"
      ]
     },
     "execution_count": 10,
     "metadata": {},
     "output_type": "execute_result"
    }
   ],
   "source": [
    "sum(sum((medi_target - replicationm)**2))"
   ]
  },
  {
   "cell_type": "code",
   "execution_count": 11,
   "id": "5eb5fca3",
   "metadata": {},
   "outputs": [
    {
     "data": {
      "text/plain": [
       "43.87607502937317"
      ]
     },
     "execution_count": 11,
     "metadata": {},
     "output_type": "execute_result"
    }
   ],
   "source": [
    "te"
   ]
  },
  {
   "cell_type": "markdown",
   "id": "3d832c20",
   "metadata": {},
   "source": [
    "## RESULTS"
   ]
  },
  {
   "cell_type": "markdown",
   "id": "44e3f366",
   "metadata": {},
   "source": [
    "### HINSCAID"
   ]
  },
  {
   "cell_type": "code",
   "execution_count": 12,
   "id": "28a3232c",
   "metadata": {},
   "outputs": [
    {
     "data": {
      "text/plain": [
       "57"
      ]
     },
     "execution_count": 12,
     "metadata": {},
     "output_type": "execute_result"
    }
   ],
   "source": [
    "5000 - sum(medi_target[:,0] == replicationm[:,0]) ## number of misses"
   ]
  },
  {
   "cell_type": "markdown",
   "id": "51a4efad",
   "metadata": {},
   "source": [
    "### EMPSTAT"
   ]
  },
  {
   "cell_type": "code",
   "execution_count": 13,
   "id": "ad180027",
   "metadata": {},
   "outputs": [
    {
     "data": {
      "text/plain": [
       "51"
      ]
     },
     "execution_count": 13,
     "metadata": {},
     "output_type": "execute_result"
    }
   ],
   "source": [
    "5000 - sum(medi_target[:,1] == replicationm[:,1]) ## number of misses"
   ]
  },
  {
   "cell_type": "markdown",
   "id": "bd761145",
   "metadata": {},
   "source": [
    "### UHRSWORK"
   ]
  },
  {
   "cell_type": "code",
   "execution_count": 14,
   "id": "3152017f",
   "metadata": {
    "scrolled": false
   },
   "outputs": [
    {
     "data": {
      "text/plain": [
       "(array([3.508e+03, 1.070e+03, 2.690e+02, 8.900e+01, 3.000e+01, 1.400e+01,\n",
       "        8.000e+00, 8.000e+00, 3.000e+00, 1.000e+00]),\n",
       " array([4.30000e-01, 4.68870e+01, 9.33440e+01, 1.39801e+02, 1.86258e+02,\n",
       "        2.32715e+02, 2.79172e+02, 3.25629e+02, 3.72086e+02, 4.18543e+02,\n",
       "        4.65000e+02]),\n",
       " <BarContainer object of 10 artists>)"
      ]
     },
     "execution_count": 14,
     "metadata": {},
     "output_type": "execute_result"
    },
    {
     "data": {
      "image/png": "[encoded data removed]",
      "text/plain": [
       "<Figure size 432x288 with 1 Axes>"
      ]
     },
     "metadata": {
      "needs_background": "light"
     },
     "output_type": "display_data"
    }
   ],
   "source": [
    "plt.hist(medi_target[:,2])"
   ]
  },
  {
   "cell_type": "code",
   "execution_count": 15,
   "id": "3e7d8266",
   "metadata": {
    "scrolled": false
   },
   "outputs": [
    {
     "data": {
      "text/plain": [
       "(array([3.703e+03, 9.610e+02, 2.150e+02, 6.800e+01, 3.100e+01, 1.300e+01,\n",
       "        6.000e+00, 1.000e+00, 1.000e+00, 1.000e+00]),\n",
       " array([  0.6341669 ,  51.78108364, 102.92800039, 154.07491714,\n",
       "        205.22183389, 256.36875063, 307.51566738, 358.66258413,\n",
       "        409.80950088, 460.95641762, 512.10333437]),\n",
       " <BarContainer object of 10 artists>)"
      ]
     },
     "execution_count": 15,
     "metadata": {},
     "output_type": "execute_result"
    },
    {
     "data": {
      "image/png": "[encoded data removed]",
      "text/plain": [
       "<Figure size 432x288 with 1 Axes>"
      ]
     },
     "metadata": {
      "needs_background": "light"
     },
     "output_type": "display_data"
    }
   ],
   "source": [
    "plt.hist(replicationm[:,2])"
   ]
  },
  {
   "cell_type": "markdown",
   "id": "6bc9902b",
   "metadata": {},
   "source": [
    "### INCWAGE"
   ]
  },
  {
   "cell_type": "code",
   "execution_count": 16,
   "id": "5e5cca67",
   "metadata": {
    "scrolled": true
   },
   "outputs": [
    {
     "data": {
      "text/plain": [
       "(array([4.743e+03, 2.050e+02, 3.700e+01, 1.100e+01, 2.000e+00, 1.000e+00,\n",
       "        0.000e+00, 0.000e+00, 0.000e+00, 1.000e+00]),\n",
       " array([  0.    ,  12.8427,  25.6854,  38.5281,  51.3708,  64.2135,\n",
       "         77.0562,  89.8989, 102.7416, 115.5843, 128.427 ]),\n",
       " <BarContainer object of 10 artists>)"
      ]
     },
     "execution_count": 16,
     "metadata": {},
     "output_type": "execute_result"
    },
    {
     "data": {
      "image/png": "[encoded data removed]",
      "text/plain": [
       "<Figure size 432x288 with 1 Axes>"
      ]
     },
     "metadata": {
      "needs_background": "light"
     },
     "output_type": "display_data"
    }
   ],
   "source": [
    "plt.hist(medi_target[:,3])"
   ]
  },
  {
   "cell_type": "code",
   "execution_count": 17,
   "id": "edb27706",
   "metadata": {
    "scrolled": true
   },
   "outputs": [
    {
     "data": {
      "text/plain": [
       "(array([4.647e+03, 2.670e+02, 4.900e+01, 2.000e+01, 9.000e+00, 4.000e+00,\n",
       "        2.000e+00, 1.000e+00, 0.000e+00, 1.000e+00]),\n",
       " array([-1.97311700e-19,  1.23377154e+01,  2.46754308e+01,  3.70131462e+01,\n",
       "         4.93508616e+01,  6.16885770e+01,  7.40262923e+01,  8.63640077e+01,\n",
       "         9.87017231e+01,  1.11039439e+02,  1.23377154e+02]),\n",
       " <BarContainer object of 10 artists>)"
      ]
     },
     "execution_count": 17,
     "metadata": {},
     "output_type": "execute_result"
    },
    {
     "data": {
      "image/png": "[encoded data removed]",
      "text/plain": [
       "<Figure size 432x288 with 1 Axes>"
      ]
     },
     "metadata": {
      "needs_background": "light"
     },
     "output_type": "display_data"
    }
   ],
   "source": [
    "plt.hist(replicationm[:,3])"
   ]
  },
  {
   "cell_type": "markdown",
   "id": "6e0e423d",
   "metadata": {},
   "source": [
    "### Notes:\n",
    "* This replication was obtained using all 12 controls, all of them sampled without replacement at n=1500.\n",
    "* I think the replications are quite accurate; they seem to 'preserve the geometry' of the target distributions\n",
    "* The right tail of the INCWAGE column is not replicated as well. However, the point at the right end are outliers and I feel like all machine learning are prone to this level of error.\n",
    "* One thing to figure out is when to do the rounding. For this test run, binary columns are rounded after the replication, but I am unsure of the theoretical validity. One option is to round at the barycentric projection step, but in this case, we might have to round once more after we multiply the optimal weights.\n",
    "* This test run used 1500 observations, and it took 4 seconds to run on my personal laptop. If we were to utilize the GL cluster, I believe we can use even more than 10k observations. And another test run I did with 150 was worse than with 1500, so we might have even better replications with 10k."
   ]
  },
  {
   "cell_type": "code",
   "execution_count": null,
   "id": "f8a40c38",
   "metadata": {},
   "outputs": [],
   "source": []
  },
  {
   "cell_type": "code",
   "execution_count": null,
   "id": "557c9196",
   "metadata": {},
   "outputs": [],
   "source": []
  }
 ],
 "metadata": {
  "kernelspec": {
   "display_name": "Python 3 (ipykernel)",
   "language": "python",
   "name": "python3"
  },
  "language_info": {
   "codemirror_mode": {
    "name": "ipython",
    "version": 3
   },
   "file_extension": ".py",
   "mimetype": "text/x-python",
   "name": "python",
   "nbconvert_exporter": "python",
   "pygments_lexer": "ipython3",
   "version": "3.9.6"
  }
 },
 "nbformat": 4,
 "nbformat_minor": 5
}
