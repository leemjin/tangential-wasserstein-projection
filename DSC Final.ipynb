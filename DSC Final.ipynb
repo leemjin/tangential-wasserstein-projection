{
 "cells": [
  {
   "cell_type": "code",
   "execution_count": 1,
   "id": "06568c41",
   "metadata": {},
   "outputs": [],
   "source": [
    "import numpy as np\n",
    "from numpy import random\n",
    "\n",
    "import pandas as pd\n",
    "import matplotlib.pylab as plt\n",
    "import ot\n",
    "import ot.plot\n",
    "import cvxpy as cp\n",
    "\n",
    "import scipy.stats as stats\n",
    "import seaborn as sns\n",
    "import scipy.special as sps\n",
    "import time as t"
   ]
  },
  {
   "cell_type": "markdown",
   "id": "b3d2faf8",
   "metadata": {},
   "source": [
    "# STEPS\n",
    "1. [Setup](#Setup)\n",
    "2. [Barycentric Projection](#(1)-Barycentric-Projection)\n",
    "3. [Get Optimal Weights](#(2)-Optimal-Weights)\n",
    "4. [Complete Function](#Complete-Function)\n",
    "5. [Utils](#Utils)\n",
    "6. [To-do](#TO-DO)"
   ]
  },
  {
   "cell_type": "markdown",
   "id": "325468ee",
   "metadata": {},
   "source": [
    "## Setup"
   ]
  },
  {
   "cell_type": "code",
   "execution_count": 2,
   "id": "09fe33b7",
   "metadata": {},
   "outputs": [],
   "source": [
    "n1 = n2 = 100\n",
    "dim = 2\n",
    "\n",
    "covmat = np.zeros((dim, dim))\n",
    "np.fill_diagonal(covmat, 1)\n",
    "\n",
    "covmat2 = np.full((dim, dim), 0.3)\n",
    "np.fill_diagonal(covmat2, 1)\n",
    "\n",
    "covmat3 = np.full((dim, dim), 0.5)\n",
    "np.fill_diagonal(covmat3, 1)\n",
    "\n",
    "covmat4 = np.full((dim, dim), 0.8)\n",
    "np.fill_diagonal(covmat4, 1)\n",
    "\n",
    "a_ones, b_ones = np.ones((n1,)) / n1, np.ones((n2,)) / n2\n",
    "\n",
    "control1 = random.multivariate_normal(mean = [20, 20], cov = covmat4, size = n1)\n",
    "control2 = random.multivariate_normal(mean = [100, 100], cov = covmat4, size = n1)\n",
    "control3 = random.multivariate_normal(mean = [50, 50], cov = covmat3, size = n1)\n",
    "controls = [control1, control2, control3]\n",
    "\n",
    "TARGET = random.multivariate_normal(mean = [25]*dim, cov = covmat, size = n1)\n",
    "\n",
    "\n",
    "a_ones, b_ones = np.ones((n1,)) / n1, np.ones((n2,)) / n2"
   ]
  },
  {
   "cell_type": "markdown",
   "id": "c00d80aa",
   "metadata": {},
   "source": [
    "## Functions"
   ]
  },
  {
   "cell_type": "markdown",
   "id": "452385f3",
   "metadata": {},
   "source": [
    "### (1) Barycentric Projection\n",
    "`baryc_proj` calculates the conditional expectation of each column of the transport plan and outputs the transport map. \n",
    "<br>\n",
    "\n",
    "NOTE: we may consider keeping the distance matrix calculation outside of this function for convenience"
   ]
  },
  {
   "cell_type": "code",
   "execution_count": 3,
   "id": "532c1063",
   "metadata": {},
   "outputs": [],
   "source": [
    "def baryc_proj(source, target):\n",
    "    \n",
    "    M = ot.dist(source, target)\n",
    "    M /= M.max()\n",
    "    OTplan = ot.bregman.sinkhorn_stabilized(a_ones, b_ones, M, reg = 5*1e-3)\n",
    "    \n",
    "    n = OTplan.shape[0]\n",
    "    p = OTplan.shape[1]\n",
    "    \n",
    "    # initialization\n",
    "    OTmap = np.empty((0, dim))\n",
    "\n",
    "    for i in range(n):\n",
    "        \n",
    "        # normalization\n",
    "        OTplan[i,:] = OTplan[i,:] / sum(OTplan[i,:])\n",
    "    \n",
    "        # conditional expectation\n",
    "        OTmap = np.vstack([OTmap, (target.T @ OTplan[i,:])])\n",
    "    \n",
    "    OTmap = np.array(OTmap)\n",
    "    \n",
    "    return(OTmap)"
   ]
  },
  {
   "cell_type": "markdown",
   "id": "1185d27b",
   "metadata": {},
   "source": [
    "### (2) Optimal Weights\n",
    "`to_optimize` defines the function that we want to minimize; it is for use within optimization with CVXPY. Refer to (2.7) in DSC<br>\n",
    "`get_optimal_weights` defines the actual optimization with CVXPY"
   ]
  },
  {
   "cell_type": "code",
   "execution_count": 4,
   "id": "df5d4db8",
   "metadata": {},
   "outputs": [],
   "source": [
    "def to_optimize(lambdas):\n",
    "    \n",
    "    ans = []\n",
    "    for i in range(J):\n",
    "        temp = lambdas[i] * (G_list[i] - TARGET)\n",
    "        ans.append(sum(sum(temp**2)))\n",
    "    \n",
    "    return sum(ans) / n"
   ]
  },
  {
   "cell_type": "code",
   "execution_count": 5,
   "id": "f5f27b20",
   "metadata": {},
   "outputs": [],
   "source": [
    "def get_optimal_weights(Glist):\n",
    "        \n",
    "    mylambda = cp.Variable(J)\n",
    "\n",
    "    objective = cp.Minimize(to_optimize(mylambda))\n",
    "    constraints = [mylambda >= 0, mylambda <= 1, cp.sum(mylambda) == 1]\n",
    "\n",
    "    prob = cp.Problem(objective, constraints)\n",
    "    prob.solve()\n",
    "\n",
    "    weights = mylambda.value\n",
    "    \n",
    "    return(weights)"
   ]
  },
  {
   "cell_type": "code",
   "execution_count": null,
   "id": "d2ebd331",
   "metadata": {
    "scrolled": true
   },
   "outputs": [],
   "source": [
    "get_optimal_weights(TARGET)"
   ]
  },
  {
   "cell_type": "markdown",
   "id": "92fdd628",
   "metadata": {},
   "source": [
    "# Complete Function\n",
    "The complete function takes in the target and controls and outputs the optimal weights and actual projection. It requires the globalization of variables n, d, J and G_list, which are useful outside of the function as well."
   ]
  },
  {
   "cell_type": "code",
   "execution_count": 6,
   "id": "643222a8",
   "metadata": {},
   "outputs": [],
   "source": [
    "def DSCreplication(target, controls):\n",
    "    \n",
    "    global n, d, J\n",
    "    n = target.shape[0]\n",
    "    d = target.shape[1]\n",
    "    J = len(controls)\n",
    "\n",
    "    # Barycentric Projection\n",
    "    global G_list\n",
    "    G_list = []\n",
    "    for i in range(len(controls)):\n",
    "        G_list.append(baryc_proj(target, controls[i]))\n",
    "    \n",
    "    \n",
    "    # Obtain optimal weights(to_optimze needs to be pre-defined)\n",
    "    weights = get_optimal_weights(G_list)\n",
    "    projection = weights[0]*G_list[0]\n",
    "    for j in range(J-1):\n",
    "        projection += weights[j+1]*G_list[j+1]\n",
    "    \n",
    "    \n",
    "    return(weights, projection)\n",
    "    "
   ]
  },
  {
   "cell_type": "markdown",
   "id": "bae550e8",
   "metadata": {},
   "source": [
    "## Alternative Function\n",
    "\n",
    "This different version does not require the globalization of variables. Also, only `get_condE` needs to be defined prior to this function. However, having key variables(i.e. individual transport maps, distance matrices) be only local may be incovenient when user wishes to observe or use them."
   ]
  },
  {
   "cell_type": "markdown",
   "id": "2d7ca0d9",
   "metadata": {},
   "source": [
    "We may expect slightly improved efficiency due to the fact that this version calls one less function; however how efficient it will actually be is yet to be tested in higher dimensions - larger samples."
   ]
  },
  {
   "cell_type": "code",
   "execution_count": 10,
   "id": "d5c58e26",
   "metadata": {},
   "outputs": [],
   "source": [
    "def DSCreplicationV2(target, controls):\n",
    "    \n",
    "    n = target.shape[0]\n",
    "    d = target.shape[1]\n",
    "    J = len(controls)\n",
    "    \n",
    "    \n",
    "    # Barycentric Projection\n",
    "    G_list = []\n",
    "    for i in range(len(controls)):\n",
    "        G_list.append(baryc_proj(target, controls[i]))\n",
    "    \n",
    "    \n",
    "    # Function to optimize\n",
    "    def to_optimize(lambdas):\n",
    "                \n",
    "        ans = []\n",
    "        for i in range(J):\n",
    "            temp = lambdas[i] * (G_list[i] - target)\n",
    "            ans.append(sum(sum(temp**2)))\n",
    "    \n",
    "        return sum(ans) / n\n",
    "\n",
    "    \n",
    "    # Obtain optimal weights\n",
    "    mylambda = cp.Variable(J)\n",
    "\n",
    "    objective = cp.Minimize(to_optimize(mylambda))\n",
    "    constraints = [mylambda >= 0, mylambda <= 1, cp.sum(mylambda) == 1]\n",
    "\n",
    "    prob = cp.Problem(objective, constraints)\n",
    "    prob.solve()\n",
    "\n",
    "    \n",
    "    weights = mylambda.value\n",
    "    projection = weights[0]*G_list[0]\n",
    "    for j in range(J-1):\n",
    "        projection += weights[j+1]*G_list[j+1]\n",
    "    \n",
    "    \n",
    "    return(weights, projection)"
   ]
  },
  {
   "cell_type": "code",
   "execution_count": 8,
   "id": "a5f53dd7",
   "metadata": {},
   "outputs": [
    {
     "name": "stdout",
     "output_type": "stream",
     "text": [
      "0.7805440425872803\n",
      "[0.95789009 0.00422008 0.03788983]\n"
     ]
    }
   ],
   "source": [
    "ts = t.time()\n",
    "\n",
    "weights1, projection1 = DSCreplication(TARGET, controls)\n",
    "\n",
    "print(t.time() - ts)\n",
    "print(weights1)"
   ]
  },
  {
   "cell_type": "code",
   "execution_count": 11,
   "id": "a5158bbf",
   "metadata": {},
   "outputs": [
    {
     "name": "stdout",
     "output_type": "stream",
     "text": [
      "0.8278801441192627\n",
      "[0.95789009 0.00422008 0.03788983]\n"
     ]
    }
   ],
   "source": [
    "ts = t.time()\n",
    "\n",
    "weights2, projection2 = DSCreplicationV2(TARGET, controls)\n",
    "\n",
    "print(t.time() - ts)\n",
    "print(weights2)"
   ]
  },
  {
   "cell_type": "markdown",
   "id": "6ec0b431",
   "metadata": {},
   "source": [
    "# TESTING"
   ]
  },
  {
   "cell_type": "markdown",
   "id": "d7edf4f3",
   "metadata": {},
   "source": [
    "## (1)"
   ]
  },
  {
   "cell_type": "code",
   "execution_count": 12,
   "id": "8a555056",
   "metadata": {},
   "outputs": [],
   "source": [
    "n1 = n2 = 100\n",
    "dim = 2\n",
    "\n",
    "covmat = np.zeros((dim, dim))\n",
    "np.fill_diagonal(covmat, 1)\n",
    "\n",
    "covmat2 = np.full((dim, dim), 0.3)\n",
    "np.fill_diagonal(covmat2, 1)\n",
    "\n",
    "covmat3 = np.full((dim, dim), 0.5)\n",
    "np.fill_diagonal(covmat3, 1)\n",
    "\n",
    "covmat4 = np.full((dim, dim), 0.8)\n",
    "np.fill_diagonal(covmat4, 1)\n",
    "\n",
    "a_ones, b_ones = np.ones((n1,)) / n1, np.ones((n2,)) / n2\n",
    "\n",
    "control11 = random.multivariate_normal(mean = [-100, -100], cov = covmat4, size = n1)\n",
    "control12 = random.multivariate_normal(mean = [20, 20], cov = covmat4, size = n1)\n",
    "control13 = random.multivariate_normal(mean = [200]*dim, cov = covmat3, size = n1)\n",
    "controls1 = [control11, control12, control13]\n",
    "\n",
    "TARGET1 = random.multivariate_normal(mean = [0]*dim, cov = covmat, size = n1)\n",
    "\n",
    "\n",
    "a_ones, b_ones = np.ones((n1,)) / n1, np.ones((n2,)) / n2"
   ]
  },
  {
   "cell_type": "code",
   "execution_count": 13,
   "id": "9d6c9670",
   "metadata": {
    "scrolled": true
   },
   "outputs": [
    {
     "data": {
      "text/plain": [
       "array([1.71587074e-03, 9.97413574e-01, 8.70554808e-04])"
      ]
     },
     "execution_count": 13,
     "metadata": {},
     "output_type": "execute_result"
    }
   ],
   "source": [
    "weights1, projection1 = DSCreplication(TARGET1, controls1)\n",
    "weights1"
   ]
  },
  {
   "cell_type": "markdown",
   "id": "0bc9367c",
   "metadata": {},
   "source": [
    "## (2) - define mixed_multi_gauss in Utils section first"
   ]
  },
  {
   "cell_type": "code",
   "execution_count": 16,
   "id": "0b998b33",
   "metadata": {},
   "outputs": [],
   "source": [
    "control21 = mixed_multi_gauss([10,10], [20,20], covmat3, covmat3, 100, 0.8)\n",
    "control22 = mixed_multi_gauss([10,10], [100,100], covmat3, covmat3, 100, 0.8)\n",
    "control23 = mixed_multi_gauss([80,80], [90,90], covmat3, covmat3, 100, 0.3)\n",
    "controls2 = [control21, control22, control23]\n",
    "\n",
    "TARGET2 = random.multivariate_normal(mean = [50]*dim, cov = covmat, size = 100)"
   ]
  },
  {
   "cell_type": "code",
   "execution_count": 17,
   "id": "765f120a",
   "metadata": {
    "scrolled": true
   },
   "outputs": [
    {
     "data": {
      "text/plain": [
       "array([0.33386639, 0.31570408, 0.35042952])"
      ]
     },
     "execution_count": 17,
     "metadata": {},
     "output_type": "execute_result"
    }
   ],
   "source": [
    "weights2, projection2 = DSCreplicationV2(TARGET2, controls2)\n",
    "weights2"
   ]
  },
  {
   "cell_type": "markdown",
   "id": "5209fb4d",
   "metadata": {},
   "source": [
    "## (3) -- check this example; projections seem off"
   ]
  },
  {
   "cell_type": "code",
   "execution_count": 18,
   "id": "4bf28cbd",
   "metadata": {},
   "outputs": [],
   "source": [
    "from sklearn.datasets import make_swiss_roll\n",
    "\n",
    "roll, _ =  make_swiss_roll(n_samples=n1, noise=0.0, random_state=1)\n",
    "roll = roll[:, 0:2]\n",
    "\n",
    "roll2, _ =  make_swiss_roll(n_samples=n1, noise=3, random_state=10)\n",
    "roll2 = roll2[:, 0:2]\n",
    "\n",
    "TARGET3, _ = make_swiss_roll(n_samples=n1, noise=5, random_state=20)\n",
    "TARGET3 = TARGET3[:, 0:2]\n",
    "\n",
    "\n",
    "controls3 = [roll, roll2]"
   ]
  },
  {
   "cell_type": "code",
   "execution_count": 19,
   "id": "9b6aa6f0",
   "metadata": {
    "scrolled": true
   },
   "outputs": [
    {
     "data": {
      "text/plain": [
       "array([0.46744788, 0.53255212])"
      ]
     },
     "execution_count": 19,
     "metadata": {},
     "output_type": "execute_result"
    }
   ],
   "source": [
    "weights3, projection3 = DSCreplicationV2(TARGET3, controls3)\n",
    "weights3"
   ]
  },
  {
   "cell_type": "markdown",
   "id": "51988a34",
   "metadata": {},
   "source": [
    "## Utils"
   ]
  },
  {
   "cell_type": "code",
   "execution_count": 15,
   "id": "2a306d81",
   "metadata": {},
   "outputs": [],
   "source": [
    "def mixed_multi_gauss(mean1, mean2, cov1, cov2, samplesize, partition):\n",
    "    \n",
    "    size1 = int(samplesize * partition)\n",
    "    size2 = int(samplesize - size1)\n",
    "    \n",
    "    gauss1 = random.multivariate_normal(mean = mean1, cov = cov1, size = size1)\n",
    "    gauss2 = random.multivariate_normal(mean = mean2, cov = cov2, size = size2)\n",
    "    \n",
    "    mixed = np.concatenate((gauss1, gauss2), axis = 0)\n",
    "    np.random.shuffle(mixed)\n",
    "    \n",
    "    return(mixed)\n"
   ]
  },
  {
   "cell_type": "markdown",
   "id": "b2240632",
   "metadata": {},
   "source": [
    "# TO DO"
   ]
  },
  {
   "cell_type": "markdown",
   "id": "fe28465c",
   "metadata": {},
   "source": [
    "* Finalize naming of variables and functions\n",
    "* Test for histograms and for different sizes of controls -- if needed, generalize\n",
    "* Testing with real-life data(Medicaid, Image data)"
   ]
  },
  {
   "cell_type": "markdown",
   "id": "02c8a3d7",
   "metadata": {},
   "source": [
    "### ARCHIVE : using variables defined in function for pre-defined functions outside of function(?)"
   ]
  },
  {
   "cell_type": "code",
   "execution_count": null,
   "id": "a0b33e7c",
   "metadata": {},
   "outputs": [],
   "source": [
    "def foo():\n",
    "    b = a +100\n",
    "    return(b)\n",
    "    "
   ]
  },
  {
   "cell_type": "code",
   "execution_count": null,
   "id": "fe9014d6",
   "metadata": {},
   "outputs": [],
   "source": [
    "def voo():\n",
    "    a = 10\n",
    "    \n",
    "    #def foo():\n",
    "    #    b = a +90\n",
    "    #    return(b)\n",
    "    \n",
    "    c = foo()\n",
    "    return(c)"
   ]
  },
  {
   "cell_type": "code",
   "execution_count": null,
   "id": "8e00e04f",
   "metadata": {},
   "outputs": [],
   "source": [
    "voo()"
   ]
  }
 ],
 "metadata": {
  "kernelspec": {
   "display_name": "Python 3 (ipykernel)",
   "language": "python",
   "name": "python3"
  },
  "language_info": {
   "codemirror_mode": {
    "name": "ipython",
    "version": 3
   },
   "file_extension": ".py",
   "mimetype": "text/x-python",
   "name": "python",
   "nbconvert_exporter": "python",
   "pygments_lexer": "ipython3",
   "version": "3.9.6"
  }
 },
 "nbformat": 4,
 "nbformat_minor": 5
}
